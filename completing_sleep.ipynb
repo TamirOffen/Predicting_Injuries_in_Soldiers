{
 "cells": [
  {
   "metadata": {},
   "cell_type": "markdown",
   "source": "# Removing ? in sleep grid and other things",
   "id": "d5e082613fe4ad3c"
  },
  {
   "cell_type": "code",
   "id": "initial_id",
   "metadata": {
    "collapsed": true,
    "ExecuteTime": {
     "end_time": "2024-07-22T09:48:23.430149Z",
     "start_time": "2024-07-22T09:48:23.426906Z"
    }
   },
   "source": [
    "import pickle\n",
    "import numpy as np\n",
    "import matplotlib.pyplot as plt\n",
    "import pandas as pd"
   ],
   "outputs": [],
   "execution_count": 1
  },
  {
   "metadata": {},
   "cell_type": "markdown",
   "source": "## Legit Users",
   "id": "f03ba507eae8f32a"
  },
  {
   "metadata": {
    "ExecuteTime": {
     "end_time": "2024-07-22T09:48:31.674287Z",
     "start_time": "2024-07-22T09:48:31.226507Z"
    }
   },
   "cell_type": "code",
   "source": [
    "legit_users_df = pd.read_excel('data/legit_watches.xlsx').dropna(subset=['userId'])\n",
    "legit_users = list(legit_users_df['userId'])\n",
    "print(f'num of legitimate users: {len(legit_users)}\\nexample:')\n",
    "legit_users[:3]"
   ],
   "id": "c28ee975e10b792",
   "outputs": [
    {
     "name": "stdout",
     "output_type": "stream",
     "text": [
      "num of legitimate users: 145\n",
      "example:\n"
     ]
    },
    {
     "data": {
      "text/plain": [
       "['0793ab56-25e1-4b0b-9a9b-be573b682523',\n",
       " '307267de-8ea3-4a7d-bc7f-5ae71f38e5e6',\n",
       " 'b49795a3-5fe2-4233-b27c-fe02363e04a1']"
      ]
     },
     "execution_count": 2,
     "metadata": {},
     "output_type": "execute_result"
    }
   ],
   "execution_count": 2
  },
  {
   "metadata": {},
   "cell_type": "markdown",
   "source": [
    "## Calculating Min and Max Heart Rates\n",
    "\n",
    "needs heart_rate_grid.pkl and the two fitness test spreadsheets in data folder named spreadsheet1.xlsw and spreadsheet2.xlsw"
   ],
   "id": "70f243760ef31826"
  },
  {
   "metadata": {
    "ExecuteTime": {
     "end_time": "2024-07-22T09:49:37.141941Z",
     "start_time": "2024-07-22T09:49:28.544173Z"
    }
   },
   "cell_type": "code",
   "source": [
    "with open('heart_rate_grid.pkl', 'rb') as file:\n",
    "    heart_rate = pickle.load(file)"
   ],
   "id": "4887efbb5bd11758",
   "outputs": [],
   "execution_count": 3
  },
  {
   "metadata": {
    "ExecuteTime": {
     "end_time": "2024-07-22T09:49:51.866834Z",
     "start_time": "2024-07-22T09:49:51.831728Z"
    }
   },
   "cell_type": "code",
   "source": [
    "# example usage of heart_rate\n",
    "soldID = '00a7a796-c572-44d7-a950-7f6bca4a4394'\n",
    "print(f'HR recorded weeks: {heart_rate[soldID].keys()}')\n",
    "heart_rate[soldID][35].head()\n",
    "# weeks:  4, 35, 36, 50, 51"
   ],
   "id": "b7b6c992b6e0dc6c",
   "outputs": [
    {
     "name": "stdout",
     "output_type": "stream",
     "text": [
      "HR recorded weeks: dict_keys([4, 35, 36, 50, 51])\n"
     ]
    },
    {
     "data": {
      "text/plain": [
       "                                 userId           dailiessummaryId  pulse  \\\n",
       "0  00a7a796-c572-44d7-a950-7f6bca4a4394  x48cc04e-6313c050-15180-6     83   \n",
       "1  00a7a796-c572-44d7-a950-7f6bca4a4394  x48cc04e-6313c050-15180-6     83   \n",
       "2  00a7a796-c572-44d7-a950-7f6bca4a4394  x48cc04e-6313c050-15180-6     83   \n",
       "3  00a7a796-c572-44d7-a950-7f6bca4a4394  x48cc04e-6313c050-15180-6     83   \n",
       "4  00a7a796-c572-44d7-a950-7f6bca4a4394  x48cc04e-6313c050-15180-6     83   \n",
       "\n",
       "             datetime  WeekNumber  \n",
       "0 2022-09-04 09:20:15          35  \n",
       "1 2022-09-04 09:20:30          35  \n",
       "2 2022-09-04 09:20:45          35  \n",
       "3 2022-09-04 09:21:00          35  \n",
       "4 2022-09-04 09:21:15          35  "
      ],
      "text/html": [
       "<div>\n",
       "<style scoped>\n",
       "    .dataframe tbody tr th:only-of-type {\n",
       "        vertical-align: middle;\n",
       "    }\n",
       "\n",
       "    .dataframe tbody tr th {\n",
       "        vertical-align: top;\n",
       "    }\n",
       "\n",
       "    .dataframe thead th {\n",
       "        text-align: right;\n",
       "    }\n",
       "</style>\n",
       "<table border=\"1\" class=\"dataframe\">\n",
       "  <thead>\n",
       "    <tr style=\"text-align: right;\">\n",
       "      <th></th>\n",
       "      <th>userId</th>\n",
       "      <th>dailiessummaryId</th>\n",
       "      <th>pulse</th>\n",
       "      <th>datetime</th>\n",
       "      <th>WeekNumber</th>\n",
       "    </tr>\n",
       "  </thead>\n",
       "  <tbody>\n",
       "    <tr>\n",
       "      <th>0</th>\n",
       "      <td>00a7a796-c572-44d7-a950-7f6bca4a4394</td>\n",
       "      <td>x48cc04e-6313c050-15180-6</td>\n",
       "      <td>83</td>\n",
       "      <td>2022-09-04 09:20:15</td>\n",
       "      <td>35</td>\n",
       "    </tr>\n",
       "    <tr>\n",
       "      <th>1</th>\n",
       "      <td>00a7a796-c572-44d7-a950-7f6bca4a4394</td>\n",
       "      <td>x48cc04e-6313c050-15180-6</td>\n",
       "      <td>83</td>\n",
       "      <td>2022-09-04 09:20:30</td>\n",
       "      <td>35</td>\n",
       "    </tr>\n",
       "    <tr>\n",
       "      <th>2</th>\n",
       "      <td>00a7a796-c572-44d7-a950-7f6bca4a4394</td>\n",
       "      <td>x48cc04e-6313c050-15180-6</td>\n",
       "      <td>83</td>\n",
       "      <td>2022-09-04 09:20:45</td>\n",
       "      <td>35</td>\n",
       "    </tr>\n",
       "    <tr>\n",
       "      <th>3</th>\n",
       "      <td>00a7a796-c572-44d7-a950-7f6bca4a4394</td>\n",
       "      <td>x48cc04e-6313c050-15180-6</td>\n",
       "      <td>83</td>\n",
       "      <td>2022-09-04 09:21:00</td>\n",
       "      <td>35</td>\n",
       "    </tr>\n",
       "    <tr>\n",
       "      <th>4</th>\n",
       "      <td>00a7a796-c572-44d7-a950-7f6bca4a4394</td>\n",
       "      <td>x48cc04e-6313c050-15180-6</td>\n",
       "      <td>83</td>\n",
       "      <td>2022-09-04 09:21:15</td>\n",
       "      <td>35</td>\n",
       "    </tr>\n",
       "  </tbody>\n",
       "</table>\n",
       "</div>"
      ]
     },
     "execution_count": 4,
     "metadata": {},
     "output_type": "execute_result"
    }
   ],
   "execution_count": 4
  },
  {
   "metadata": {},
   "cell_type": "markdown",
   "source": "min hr",
   "id": "558c3a832c97242"
  },
  {
   "metadata": {
    "ExecuteTime": {
     "end_time": "2024-07-22T09:52:46.184795Z",
     "start_time": "2024-07-22T09:52:26.218562Z"
    }
   },
   "cell_type": "code",
   "source": [
    "# min hr: 5 percentile\n",
    "percentile_5_hrs = {}\n",
    "min_avg_hrs = {}\n",
    "for soldier_id, weekly_data in heart_rate.items():\n",
    "    daily_percentile_5_hr = []\n",
    "    for week, df in weekly_data.items():\n",
    "        df['date'] = df['datetime'].dt.date  # Extract date part from datetime\n",
    "        daily_groups = df.groupby('date')  # Group by date\n",
    "        for date, group in daily_groups:\n",
    "            percentile_5 = np.percentile(group['pulse'], 5)  # Calculate 5th percentile for the day's heart rates\n",
    "            daily_percentile_5_hr.append(percentile_5)\n",
    "    percentile_5_hrs[soldier_id] = daily_percentile_5_hr\n",
    "    min_avg_hrs[soldier_id] = np.median(daily_percentile_5_hr)\n",
    "print(f'Average min hr across all soldiers: {np.average(list(min_avg_hrs.values()))}')\n",
    "\n",
    "legit_hr_values = [min_avg_hrs[user_id] for user_id in legit_users if user_id in min_avg_hrs]\n",
    "print(f'Average min hr across legit users: {np.average(legit_hr_values)}')"
   ],
   "id": "5253642633fc649c",
   "outputs": [
    {
     "name": "stdout",
     "output_type": "stream",
     "text": [
      "Average min hr across all soldiers: 59.06726190476191\n",
      "Average min hr across legit users: 58.32314814814815\n"
     ]
    }
   ],
   "execution_count": 6
  },
  {
   "metadata": {
    "ExecuteTime": {
     "end_time": "2024-07-22T09:52:55.784355Z",
     "start_time": "2024-07-22T09:52:55.780367Z"
    }
   },
   "cell_type": "code",
   "source": [
    "# example\n",
    "percentile_5_hrs['00a7a796-c572-44d7-a950-7f6bca4a4394'] # each entry corresponds to a day"
   ],
   "id": "5ec098c3aa9e5b34",
   "outputs": [
    {
     "data": {
      "text/plain": [
       "[87.0, 60.0, 79.0, 70.0, 47.0, 50.0, 46.0, 77.0, 60.1, 71.0]"
      ]
     },
     "execution_count": 7,
     "metadata": {},
     "output_type": "execute_result"
    }
   ],
   "execution_count": 7
  },
  {
   "metadata": {
    "ExecuteTime": {
     "end_time": "2024-07-22T09:53:20.907689Z",
     "start_time": "2024-07-22T09:53:20.586205Z"
    }
   },
   "cell_type": "code",
   "source": [
    "# graph\n",
    "plt.figure(figsize=(10, 6))\n",
    "plt.hist(legit_hr_values, bins=50, edgecolor='black')\n",
    "plt.title('min hrs (median of 5th percentiles) across legit users')\n",
    "plt.xlabel('bpm')\n",
    "plt.ylabel('Frequency')\n",
    "plt.grid(True)\n",
    "plt.show()"
   ],
   "id": "af90a762282211b5",
   "outputs": [
    {
     "data": {
      "text/plain": [
       "<Figure size 1000x600 with 1 Axes>"
      ],
      "image/png": "[encoded data removed]"
     },
     "metadata": {},
     "output_type": "display_data"
    }
   ],
   "execution_count": 8
  },
  {
   "metadata": {
    "ExecuteTime": {
     "end_time": "2024-07-16T12:12:17.512819Z",
     "start_time": "2024-07-16T12:12:17.416985Z"
    }
   },
   "cell_type": "code",
   "source": [
    "# getting the dates of the fitness tests -> union_dates\n",
    "import datetime\n",
    "def convert_unix_to_datetime(unix_timestamp):\n",
    "    return datetime.datetime.fromtimestamp(unix_timestamp)\n",
    "\n",
    "df1 = pd.read_excel('data/spreadsheet1.xlsx')\n",
    "df2 = pd.read_excel('data/spreadsheet2.xlsx')\n",
    "df1['date'] = pd.to_datetime(df1['date']).apply(lambda x: x.date())\n",
    "df2['date'] = pd.to_datetime(df2['date']).apply(lambda x: x.date())\n",
    "dates1 = df1['date'].dropna()\n",
    "dates2 = df2['date'].dropna()\n",
    "union_dates = pd.concat([df1['date'], df2['date']]).drop_duplicates().dropna().reset_index(drop=True)\n",
    "print(f'number of dates in fitness test: {len(union_dates)}')\n",
    "# set(union_dates)"
   ],
   "id": "3eb66d2c9ed6bbde",
   "outputs": [
    {
     "name": "stdout",
     "output_type": "stream",
     "text": [
      "number of dates in fitness test: 117\n"
     ]
    }
   ],
   "execution_count": 98
  },
  {
   "metadata": {},
   "cell_type": "markdown",
   "source": "max hr",
   "id": "1ef9ed58d07a467f"
  },
  {
   "metadata": {
    "ExecuteTime": {
     "end_time": "2024-07-16T12:26:02.555811Z",
     "start_time": "2024-07-16T12:25:43.375533Z"
    }
   },
   "cell_type": "code",
   "source": [
    "# calculating max hr: 99.5 percentile \n",
    "percentile_99_5_hrs = {}\n",
    "max_avg_hrs = {}\n",
    "min_samples = 500\n",
    "\n",
    "union_dates_set = set(union_dates)\n",
    "# union_dates_set = {datetime.date(2022, 9, 15)}  # test with individual date/s; (year, month, day)\n",
    "\n",
    "for soldier_id, weekly_data in heart_rate.items():\n",
    "    daily_percentile_99_5_hr = []\n",
    "    for week, df in weekly_data.items():\n",
    "        df['date'] = df['datetime'].dt.date  # Extract date part from datetime\n",
    "        daily_groups = df.groupby('date')  # Group by date\n",
    "        for date, group in daily_groups:\n",
    "            # print(len(group)) # group is the df with the hr on the date for soldier_id\n",
    "            # uncomment an 'if' and use\n",
    "            if date in union_dates_set and len(group) > min_samples:  # fitness dates only\n",
    "            # if len(group) > min_samples:  # all dates\n",
    "            # if date not in union_dates_set and len(group) > min_samples:  # no fitness dates\n",
    "            # if True:  # all dates and any size of group\n",
    "                percentile_99_5 = np.percentile(group['pulse'], 99.5)  # Calculate 95th percentile for the day's heart rates\n",
    "                daily_percentile_99_5_hr.append(percentile_99_5)\n",
    "    percentile_99_5_hrs[soldier_id] = daily_percentile_99_5_hr\n",
    "    if len(daily_percentile_99_5_hr):  # no divide by zero error\n",
    "        max_avg_hrs[soldier_id] = np.median(daily_percentile_99_5_hr)\n",
    "\n",
    "print(f'average max hr across all soldiers: {np.average(list(max_avg_hrs.values()))}')\n",
    "print(f'num of soldiers with no data: {len(heart_rate.keys()) - len(max_avg_hrs.keys())}')"
   ],
   "id": "f06341bd0cd2ccc7",
   "outputs": [
    {
     "name": "stdout",
     "output_type": "stream",
     "text": [
      "average max hr across all soldiers: 123.88335106382979\n",
      "num of soldiers with no data: 69\n"
     ]
    }
   ],
   "execution_count": 120
  },
  {
   "metadata": {
    "ExecuteTime": {
     "end_time": "2024-07-16T12:22:07.492232Z",
     "start_time": "2024-07-16T12:22:07.484124Z"
    }
   },
   "cell_type": "code",
   "source": [
    "# print the soldiers with their max hr\n",
    "df_max_avg_hrs = pd.DataFrame.from_dict(max_avg_hrs, orient='index', columns=['max_hr'])\n",
    "df_max_avg_hrs.reset_index(inplace=True)\n",
    "df_max_avg_hrs.rename(columns={'index': 'soldier_id'}, inplace=True)\n",
    "df_max_avg_hrs"
   ],
   "id": "32a2c983558d784a",
   "outputs": [
    {
     "data": {
      "text/plain": [
       "                               soldier_id    max_hr\n",
       "0    00a7a796-c572-44d7-a950-7f6bca4a4394  123.0000\n",
       "1    02a9bd9f-430e-4351-b1e7-9ae10b9413a3  132.0000\n",
       "2    03406515-0b5e-4a5a-9ff1-a85c06513e60  138.0000\n",
       "3    042e1305-faa2-4eb8-a833-d2181efdeb31  117.0000\n",
       "4    050b5881-43e2-44c8-8964-148576d30359  123.5000\n",
       "..                                    ...       ...\n",
       "136  facdd015-3ab6-4dca-8c12-4fc3c008679e  121.0000\n",
       "137  fbfa150b-4c62-412d-9e84-ef06e8495fc5  114.6825\n",
       "138  fd486705-4873-4001-95f5-6f5bbf0d620f  140.0000\n",
       "139  fd949638-b68e-4e68-b660-f31133ed2a19  104.0000\n",
       "140  ff28a7f9-ebf2-43de-a8fb-5cc213ec5dea  120.0000\n",
       "\n",
       "[141 rows x 2 columns]"
      ],
      "text/html": [
       "<div>\n",
       "<style scoped>\n",
       "    .dataframe tbody tr th:only-of-type {\n",
       "        vertical-align: middle;\n",
       "    }\n",
       "\n",
       "    .dataframe tbody tr th {\n",
       "        vertical-align: top;\n",
       "    }\n",
       "\n",
       "    .dataframe thead th {\n",
       "        text-align: right;\n",
       "    }\n",
       "</style>\n",
       "<table border=\"1\" class=\"dataframe\">\n",
       "  <thead>\n",
       "    <tr style=\"text-align: right;\">\n",
       "      <th></th>\n",
       "      <th>soldier_id</th>\n",
       "      <th>max_hr</th>\n",
       "    </tr>\n",
       "  </thead>\n",
       "  <tbody>\n",
       "    <tr>\n",
       "      <th>0</th>\n",
       "      <td>00a7a796-c572-44d7-a950-7f6bca4a4394</td>\n",
       "      <td>123.0000</td>\n",
       "    </tr>\n",
       "    <tr>\n",
       "      <th>1</th>\n",
       "      <td>02a9bd9f-430e-4351-b1e7-9ae10b9413a3</td>\n",
       "      <td>132.0000</td>\n",
       "    </tr>\n",
       "    <tr>\n",
       "      <th>2</th>\n",
       "      <td>03406515-0b5e-4a5a-9ff1-a85c06513e60</td>\n",
       "      <td>138.0000</td>\n",
       "    </tr>\n",
       "    <tr>\n",
       "      <th>3</th>\n",
       "      <td>042e1305-faa2-4eb8-a833-d2181efdeb31</td>\n",
       "      <td>117.0000</td>\n",
       "    </tr>\n",
       "    <tr>\n",
       "      <th>4</th>\n",
       "      <td>050b5881-43e2-44c8-8964-148576d30359</td>\n",
       "      <td>123.5000</td>\n",
       "    </tr>\n",
       "    <tr>\n",
       "      <th>...</th>\n",
       "      <td>...</td>\n",
       "      <td>...</td>\n",
       "    </tr>\n",
       "    <tr>\n",
       "      <th>136</th>\n",
       "      <td>facdd015-3ab6-4dca-8c12-4fc3c008679e</td>\n",
       "      <td>121.0000</td>\n",
       "    </tr>\n",
       "    <tr>\n",
       "      <th>137</th>\n",
       "      <td>fbfa150b-4c62-412d-9e84-ef06e8495fc5</td>\n",
       "      <td>114.6825</td>\n",
       "    </tr>\n",
       "    <tr>\n",
       "      <th>138</th>\n",
       "      <td>fd486705-4873-4001-95f5-6f5bbf0d620f</td>\n",
       "      <td>140.0000</td>\n",
       "    </tr>\n",
       "    <tr>\n",
       "      <th>139</th>\n",
       "      <td>fd949638-b68e-4e68-b660-f31133ed2a19</td>\n",
       "      <td>104.0000</td>\n",
       "    </tr>\n",
       "    <tr>\n",
       "      <th>140</th>\n",
       "      <td>ff28a7f9-ebf2-43de-a8fb-5cc213ec5dea</td>\n",
       "      <td>120.0000</td>\n",
       "    </tr>\n",
       "  </tbody>\n",
       "</table>\n",
       "<p>141 rows × 2 columns</p>\n",
       "</div>"
      ]
     },
     "execution_count": 111,
     "metadata": {},
     "output_type": "execute_result"
    }
   ],
   "execution_count": 111
  },
  {
   "metadata": {
    "ExecuteTime": {
     "end_time": "2024-07-16T12:20:03.863846Z",
     "start_time": "2024-07-16T12:20:03.684598Z"
    }
   },
   "cell_type": "code",
   "source": [
    "# graph\n",
    "median_values = list(max_avg_hrs.values())\n",
    "\n",
    "plt.figure(figsize=(10, 6))\n",
    "plt.hist(median_values, bins=50, edgecolor='black')\n",
    "plt.title('max hrs (median of 99.5th percentiles)')\n",
    "plt.xlabel('bpm')\n",
    "plt.ylabel('Frequency')\n",
    "plt.grid(True)\n",
    "plt.show()"
   ],
   "id": "4b06b4f17ec61ca2",
   "outputs": [
    {
     "data": {
      "text/plain": [
       "<Figure size 1000x600 with 1 Axes>"
      ],
      "image/png": "[encoded data removed]"
     },
     "metadata": {},
     "output_type": "display_data"
    }
   ],
   "execution_count": 107
  },
  {
   "metadata": {
    "ExecuteTime": {
     "end_time": "2024-07-16T12:27:34.295676Z",
     "start_time": "2024-07-16T12:27:34.291413Z"
    }
   },
   "cell_type": "code",
   "source": [
    "# soldID = 'ba6e4cf9-b8f2-49a1-890e-5093d32a456e'\n",
    "soldID = 'b810cc55-65f1-45fa-94fe-e28b8066cd01'\n",
    "print(f'max hr for \\'{soldID}\\' is {max_avg_hrs[soldID]} bpm')\n",
    "print('HR 99.5th percentile per day:')\n",
    "# percentile_99_5_hrs[soldID].sort()\n",
    "percentile_99_5_hrs[soldID]"
   ],
   "id": "d0d4dfad221d73b0",
   "outputs": [
    {
     "name": "stdout",
     "output_type": "stream",
     "text": [
      "max hr for 'b810cc55-65f1-45fa-94fe-e28b8066cd01' is 122.0 bpm\n",
      "HR 99.5th percentile per day:\n"
     ]
    },
    {
     "data": {
      "text/plain": [
       "[139.0,\n",
       " 110.0,\n",
       " 147.0,\n",
       " 112.0,\n",
       " 118.0,\n",
       " 122.0,\n",
       " 121.0,\n",
       " 187.0,\n",
       " 174.0,\n",
       " 120.0,\n",
       " 169.0,\n",
       " 164.0,\n",
       " 82.0,\n",
       " 137.0,\n",
       " 116.0]"
      ]
     },
     "execution_count": 128,
     "metadata": {},
     "output_type": "execute_result"
    }
   ],
   "execution_count": 128
  },
  {
   "metadata": {
    "ExecuteTime": {
     "end_time": "2024-07-16T12:26:10.179571Z",
     "start_time": "2024-07-16T12:26:10.171271Z"
    }
   },
   "cell_type": "code",
   "source": [
    "heart_rate[soldID][36]\n",
    "# weeks: [2, 3, 4, 34, 35, 40, 42, 43, 44, 45, 46, 47, 48, 49]"
   ],
   "id": "d738085b8ede969d",
   "outputs": [
    {
     "data": {
      "text/plain": [
       "                                  userId           dailiessummaryId  pulse  \\\n",
       "0   b810cc55-65f1-45fa-94fe-e28b8066cd01  x48c438e-632240d0-15180-6     67   \n",
       "1   b810cc55-65f1-45fa-94fe-e28b8066cd01  x48c438e-632240d0-15180-6     67   \n",
       "2   b810cc55-65f1-45fa-94fe-e28b8066cd01  x48c438e-632240d0-15180-6     67   \n",
       "3   b810cc55-65f1-45fa-94fe-e28b8066cd01  x48c438e-632240d0-15180-6     67   \n",
       "4   b810cc55-65f1-45fa-94fe-e28b8066cd01  x48c438e-632240d0-15180-6     69   \n",
       "5   b810cc55-65f1-45fa-94fe-e28b8066cd01  x48c438e-632240d0-15180-6     69   \n",
       "6   b810cc55-65f1-45fa-94fe-e28b8066cd01  x48c438e-632240d0-15180-6     69   \n",
       "7   b810cc55-65f1-45fa-94fe-e28b8066cd01  x48c438e-632240d0-15180-6     69   \n",
       "8   b810cc55-65f1-45fa-94fe-e28b8066cd01  x48c438e-632240d0-15180-6     83   \n",
       "9   b810cc55-65f1-45fa-94fe-e28b8066cd01  x48c438e-632240d0-15180-6     83   \n",
       "10  b810cc55-65f1-45fa-94fe-e28b8066cd01  x48c438e-632240d0-15180-6     83   \n",
       "11  b810cc55-65f1-45fa-94fe-e28b8066cd01  x48c438e-632240d0-15180-6     83   \n",
       "12  b810cc55-65f1-45fa-94fe-e28b8066cd01  x48c438e-632240d0-15180-6     78   \n",
       "13  b810cc55-65f1-45fa-94fe-e28b8066cd01  x48c438e-632240d0-15180-6     78   \n",
       "14  b810cc55-65f1-45fa-94fe-e28b8066cd01  x48c438e-632240d0-15180-6     78   \n",
       "15  b810cc55-65f1-45fa-94fe-e28b8066cd01  x48c438e-632240d0-15180-6     78   \n",
       "\n",
       "              datetime  WeekNumber        date  \n",
       "0  2022-09-15 14:15:15          36  2022-09-15  \n",
       "1  2022-09-15 14:15:30          36  2022-09-15  \n",
       "2  2022-09-15 14:15:45          36  2022-09-15  \n",
       "3  2022-09-15 14:16:00          36  2022-09-15  \n",
       "4  2022-09-15 14:20:15          36  2022-09-15  \n",
       "5  2022-09-15 14:20:30          36  2022-09-15  \n",
       "6  2022-09-15 14:20:45          36  2022-09-15  \n",
       "7  2022-09-15 14:21:00          36  2022-09-15  \n",
       "8  2022-09-15 14:21:15          36  2022-09-15  \n",
       "9  2022-09-15 14:21:30          36  2022-09-15  \n",
       "10 2022-09-15 14:21:45          36  2022-09-15  \n",
       "11 2022-09-15 14:22:00          36  2022-09-15  \n",
       "12 2022-09-15 14:22:15          36  2022-09-15  \n",
       "13 2022-09-15 14:22:30          36  2022-09-15  \n",
       "14 2022-09-15 14:22:45          36  2022-09-15  \n",
       "15 2022-09-15 14:23:00          36  2022-09-15  "
      ],
      "text/html": [
       "<div>\n",
       "<style scoped>\n",
       "    .dataframe tbody tr th:only-of-type {\n",
       "        vertical-align: middle;\n",
       "    }\n",
       "\n",
       "    .dataframe tbody tr th {\n",
       "        vertical-align: top;\n",
       "    }\n",
       "\n",
       "    .dataframe thead th {\n",
       "        text-align: right;\n",
       "    }\n",
       "</style>\n",
       "<table border=\"1\" class=\"dataframe\">\n",
       "  <thead>\n",
       "    <tr style=\"text-align: right;\">\n",
       "      <th></th>\n",
       "      <th>userId</th>\n",
       "      <th>dailiessummaryId</th>\n",
       "      <th>pulse</th>\n",
       "      <th>datetime</th>\n",
       "      <th>WeekNumber</th>\n",
       "      <th>date</th>\n",
       "    </tr>\n",
       "  </thead>\n",
       "  <tbody>\n",
       "    <tr>\n",
       "      <th>0</th>\n",
       "      <td>b810cc55-65f1-45fa-94fe-e28b8066cd01</td>\n",
       "      <td>x48c438e-632240d0-15180-6</td>\n",
       "      <td>67</td>\n",
       "      <td>2022-09-15 14:15:15</td>\n",
       "      <td>36</td>\n",
       "      <td>2022-09-15</td>\n",
       "    </tr>\n",
       "    <tr>\n",
       "      <th>1</th>\n",
       "      <td>b810cc55-65f1-45fa-94fe-e28b8066cd01</td>\n",
       "      <td>x48c438e-632240d0-15180-6</td>\n",
       "      <td>67</td>\n",
       "      <td>2022-09-15 14:15:30</td>\n",
       "      <td>36</td>\n",
       "      <td>2022-09-15</td>\n",
       "    </tr>\n",
       "    <tr>\n",
       "      <th>2</th>\n",
       "      <td>b810cc55-65f1-45fa-94fe-e28b8066cd01</td>\n",
       "      <td>x48c438e-632240d0-15180-6</td>\n",
       "      <td>67</td>\n",
       "      <td>2022-09-15 14:15:45</td>\n",
       "      <td>36</td>\n",
       "      <td>2022-09-15</td>\n",
       "    </tr>\n",
       "    <tr>\n",
       "      <th>3</th>\n",
       "      <td>b810cc55-65f1-45fa-94fe-e28b8066cd01</td>\n",
       "      <td>x48c438e-632240d0-15180-6</td>\n",
       "      <td>67</td>\n",
       "      <td>2022-09-15 14:16:00</td>\n",
       "      <td>36</td>\n",
       "      <td>2022-09-15</td>\n",
       "    </tr>\n",
       "    <tr>\n",
       "      <th>4</th>\n",
       "      <td>b810cc55-65f1-45fa-94fe-e28b8066cd01</td>\n",
       "      <td>x48c438e-632240d0-15180-6</td>\n",
       "      <td>69</td>\n",
       "      <td>2022-09-15 14:20:15</td>\n",
       "      <td>36</td>\n",
       "      <td>2022-09-15</td>\n",
       "    </tr>\n",
       "    <tr>\n",
       "      <th>5</th>\n",
       "      <td>b810cc55-65f1-45fa-94fe-e28b8066cd01</td>\n",
       "      <td>x48c438e-632240d0-15180-6</td>\n",
       "      <td>69</td>\n",
       "      <td>2022-09-15 14:20:30</td>\n",
       "      <td>36</td>\n",
       "      <td>2022-09-15</td>\n",
       "    </tr>\n",
       "    <tr>\n",
       "      <th>6</th>\n",
       "      <td>b810cc55-65f1-45fa-94fe-e28b8066cd01</td>\n",
       "      <td>x48c438e-632240d0-15180-6</td>\n",
       "      <td>69</td>\n",
       "      <td>2022-09-15 14:20:45</td>\n",
       "      <td>36</td>\n",
       "      <td>2022-09-15</td>\n",
       "    </tr>\n",
       "    <tr>\n",
       "      <th>7</th>\n",
       "      <td>b810cc55-65f1-45fa-94fe-e28b8066cd01</td>\n",
       "      <td>x48c438e-632240d0-15180-6</td>\n",
       "      <td>69</td>\n",
       "      <td>2022-09-15 14:21:00</td>\n",
       "      <td>36</td>\n",
       "      <td>2022-09-15</td>\n",
       "    </tr>\n",
       "    <tr>\n",
       "      <th>8</th>\n",
       "      <td>b810cc55-65f1-45fa-94fe-e28b8066cd01</td>\n",
       "      <td>x48c438e-632240d0-15180-6</td>\n",
       "      <td>83</td>\n",
       "      <td>2022-09-15 14:21:15</td>\n",
       "      <td>36</td>\n",
       "      <td>2022-09-15</td>\n",
       "    </tr>\n",
       "    <tr>\n",
       "      <th>9</th>\n",
       "      <td>b810cc55-65f1-45fa-94fe-e28b8066cd01</td>\n",
       "      <td>x48c438e-632240d0-15180-6</td>\n",
       "      <td>83</td>\n",
       "      <td>2022-09-15 14:21:30</td>\n",
       "      <td>36</td>\n",
       "      <td>2022-09-15</td>\n",
       "    </tr>\n",
       "    <tr>\n",
       "      <th>10</th>\n",
       "      <td>b810cc55-65f1-45fa-94fe-e28b8066cd01</td>\n",
       "      <td>x48c438e-632240d0-15180-6</td>\n",
       "      <td>83</td>\n",
       "      <td>2022-09-15 14:21:45</td>\n",
       "      <td>36</td>\n",
       "      <td>2022-09-15</td>\n",
       "    </tr>\n",
       "    <tr>\n",
       "      <th>11</th>\n",
       "      <td>b810cc55-65f1-45fa-94fe-e28b8066cd01</td>\n",
       "      <td>x48c438e-632240d0-15180-6</td>\n",
       "      <td>83</td>\n",
       "      <td>2022-09-15 14:22:00</td>\n",
       "      <td>36</td>\n",
       "      <td>2022-09-15</td>\n",
       "    </tr>\n",
       "    <tr>\n",
       "      <th>12</th>\n",
       "      <td>b810cc55-65f1-45fa-94fe-e28b8066cd01</td>\n",
       "      <td>x48c438e-632240d0-15180-6</td>\n",
       "      <td>78</td>\n",
       "      <td>2022-09-15 14:22:15</td>\n",
       "      <td>36</td>\n",
       "      <td>2022-09-15</td>\n",
       "    </tr>\n",
       "    <tr>\n",
       "      <th>13</th>\n",
       "      <td>b810cc55-65f1-45fa-94fe-e28b8066cd01</td>\n",
       "      <td>x48c438e-632240d0-15180-6</td>\n",
       "      <td>78</td>\n",
       "      <td>2022-09-15 14:22:30</td>\n",
       "      <td>36</td>\n",
       "      <td>2022-09-15</td>\n",
       "    </tr>\n",
       "    <tr>\n",
       "      <th>14</th>\n",
       "      <td>b810cc55-65f1-45fa-94fe-e28b8066cd01</td>\n",
       "      <td>x48c438e-632240d0-15180-6</td>\n",
       "      <td>78</td>\n",
       "      <td>2022-09-15 14:22:45</td>\n",
       "      <td>36</td>\n",
       "      <td>2022-09-15</td>\n",
       "    </tr>\n",
       "    <tr>\n",
       "      <th>15</th>\n",
       "      <td>b810cc55-65f1-45fa-94fe-e28b8066cd01</td>\n",
       "      <td>x48c438e-632240d0-15180-6</td>\n",
       "      <td>78</td>\n",
       "      <td>2022-09-15 14:23:00</td>\n",
       "      <td>36</td>\n",
       "      <td>2022-09-15</td>\n",
       "    </tr>\n",
       "  </tbody>\n",
       "</table>\n",
       "</div>"
      ]
     },
     "execution_count": 122,
     "metadata": {},
     "output_type": "execute_result"
    }
   ],
   "execution_count": 122
  },
  {
   "metadata": {},
   "cell_type": "code",
   "outputs": [],
   "execution_count": null,
   "source": "",
   "id": "124be79006a9574b"
  },
  {
   "metadata": {},
   "cell_type": "code",
   "outputs": [],
   "execution_count": null,
   "source": "",
   "id": "d8f79af21172ccba"
  },
  {
   "metadata": {},
   "cell_type": "markdown",
   "source": "## steps with zones and binary sleep grid",
   "id": "c0a70e20f7e0b7b1"
  },
  {
   "metadata": {
    "ExecuteTime": {
     "end_time": "2024-07-22T09:54:33.976566Z",
     "start_time": "2024-07-22T09:54:24.537079Z"
    }
   },
   "cell_type": "code",
   "source": [
    "with open('heart_rate_grid.pkl', 'rb') as file:\n",
    "    heart_rate = pickle.load(file)  # 15 second intervals"
   ],
   "id": "5e3195a01807d00",
   "outputs": [],
   "execution_count": 9
  },
  {
   "metadata": {
    "ExecuteTime": {
     "end_time": "2024-07-22T09:55:55.754704Z",
     "start_time": "2024-07-22T09:55:41.472450Z"
    }
   },
   "cell_type": "code",
   "source": [
    "# making heart rate grids be by 1 minute, and not 15 seconds\n",
    "downsampled_heart_rate = {}\n",
    "\n",
    "for soldier_id, weekly_data in heart_rate.items():\n",
    "    downsampled_heart_rate[soldier_id] = {}\n",
    "    for week, df in weekly_data.items():\n",
    "        df_copy = df.copy()\n",
    "        # TODO bug in heart_rate, see july 20 in google docs for details\n",
    "        df_copy.drop_duplicates(subset=['datetime'], inplace=True)\n",
    "        df_copy.set_index('datetime', inplace=True)  # Set datetime as the index for resampling\n",
    "        resampled_df = df_copy.resample('1min').mean(numeric_only=True).dropna().reset_index()   # Resample to 1 minute intervals and take the mean\n",
    "        resampled_df.reset_index(drop=True, inplace=True)  # Reset the index to make datetime a column again\n",
    "        resampled_df['WeekNumber'] = resampled_df['WeekNumber'].astype('int64')\n",
    "        downsampled_heart_rate[soldier_id][week] = resampled_df\n",
    "        "
   ],
   "id": "5dcab934d9b1d42a",
   "outputs": [],
   "execution_count": 10
  },
  {
   "metadata": {
    "ExecuteTime": {
     "end_time": "2024-07-22T09:56:19.099031Z",
     "start_time": "2024-07-22T09:56:19.095636Z"
    }
   },
   "cell_type": "code",
   "source": [
    "soldier = 'd8dde847-b55a-4a8b-97a3-db7f53a07ec9'\n",
    "# soldier = '00a7a796-c572-44d7-a950-7f6bca4a4394'\n",
    "print(f'soldier is in legit users: {soldier in legit_users}')"
   ],
   "id": "74b9bfa8cbe05e5b",
   "outputs": [
    {
     "name": "stdout",
     "output_type": "stream",
     "text": [
      "soldier is in legit users: True\n"
     ]
    }
   ],
   "execution_count": 13
  },
  {
   "metadata": {
    "ExecuteTime": {
     "end_time": "2024-07-22T09:57:20.357669Z",
     "start_time": "2024-07-22T09:57:20.351062Z"
    }
   },
   "cell_type": "code",
   "source": "heart_rate[soldier][36].head(10)",
   "id": "d11030700566585d",
   "outputs": [
    {
     "data": {
      "text/plain": [
       "                                 userId           dailiessummaryId  pulse  \\\n",
       "0  d8dde847-b55a-4a8b-97a3-db7f53a07ec9  x48c7c66-631cf044-15180-6     82   \n",
       "1  d8dde847-b55a-4a8b-97a3-db7f53a07ec9  x48c7c66-631cf044-15180-6     82   \n",
       "2  d8dde847-b55a-4a8b-97a3-db7f53a07ec9  x48c7c66-631cf044-15180-6     82   \n",
       "3  d8dde847-b55a-4a8b-97a3-db7f53a07ec9  x48c7c66-631cf044-15180-6     82   \n",
       "4  d8dde847-b55a-4a8b-97a3-db7f53a07ec9  x48c7c66-631cf044-15180-6     75   \n",
       "5  d8dde847-b55a-4a8b-97a3-db7f53a07ec9  x48c7c66-631cf044-15180-6     75   \n",
       "6  d8dde847-b55a-4a8b-97a3-db7f53a07ec9  x48c7c66-631cf044-15180-6     75   \n",
       "7  d8dde847-b55a-4a8b-97a3-db7f53a07ec9  x48c7c66-631cf044-15180-6     75   \n",
       "8  d8dde847-b55a-4a8b-97a3-db7f53a07ec9  x48c7c66-631cf044-15180-6     89   \n",
       "9  d8dde847-b55a-4a8b-97a3-db7f53a07ec9  x48c7c66-631cf044-15180-6     89   \n",
       "\n",
       "             datetime  WeekNumber  \n",
       "0 2022-09-11 11:44:15          36  \n",
       "1 2022-09-11 11:44:30          36  \n",
       "2 2022-09-11 11:44:45          36  \n",
       "3 2022-09-11 11:45:00          36  \n",
       "4 2022-09-11 11:45:15          36  \n",
       "5 2022-09-11 11:45:30          36  \n",
       "6 2022-09-11 11:45:45          36  \n",
       "7 2022-09-11 11:46:00          36  \n",
       "8 2022-09-11 11:46:15          36  \n",
       "9 2022-09-11 11:46:30          36  "
      ],
      "text/html": [
       "<div>\n",
       "<style scoped>\n",
       "    .dataframe tbody tr th:only-of-type {\n",
       "        vertical-align: middle;\n",
       "    }\n",
       "\n",
       "    .dataframe tbody tr th {\n",
       "        vertical-align: top;\n",
       "    }\n",
       "\n",
       "    .dataframe thead th {\n",
       "        text-align: right;\n",
       "    }\n",
       "</style>\n",
       "<table border=\"1\" class=\"dataframe\">\n",
       "  <thead>\n",
       "    <tr style=\"text-align: right;\">\n",
       "      <th></th>\n",
       "      <th>userId</th>\n",
       "      <th>dailiessummaryId</th>\n",
       "      <th>pulse</th>\n",
       "      <th>datetime</th>\n",
       "      <th>WeekNumber</th>\n",
       "    </tr>\n",
       "  </thead>\n",
       "  <tbody>\n",
       "    <tr>\n",
       "      <th>0</th>\n",
       "      <td>d8dde847-b55a-4a8b-97a3-db7f53a07ec9</td>\n",
       "      <td>x48c7c66-631cf044-15180-6</td>\n",
       "      <td>82</td>\n",
       "      <td>2022-09-11 11:44:15</td>\n",
       "      <td>36</td>\n",
       "    </tr>\n",
       "    <tr>\n",
       "      <th>1</th>\n",
       "      <td>d8dde847-b55a-4a8b-97a3-db7f53a07ec9</td>\n",
       "      <td>x48c7c66-631cf044-15180-6</td>\n",
       "      <td>82</td>\n",
       "      <td>2022-09-11 11:44:30</td>\n",
       "      <td>36</td>\n",
       "    </tr>\n",
       "    <tr>\n",
       "      <th>2</th>\n",
       "      <td>d8dde847-b55a-4a8b-97a3-db7f53a07ec9</td>\n",
       "      <td>x48c7c66-631cf044-15180-6</td>\n",
       "      <td>82</td>\n",
       "      <td>2022-09-11 11:44:45</td>\n",
       "      <td>36</td>\n",
       "    </tr>\n",
       "    <tr>\n",
       "      <th>3</th>\n",
       "      <td>d8dde847-b55a-4a8b-97a3-db7f53a07ec9</td>\n",
       "      <td>x48c7c66-631cf044-15180-6</td>\n",
       "      <td>82</td>\n",
       "      <td>2022-09-11 11:45:00</td>\n",
       "      <td>36</td>\n",
       "    </tr>\n",
       "    <tr>\n",
       "      <th>4</th>\n",
       "      <td>d8dde847-b55a-4a8b-97a3-db7f53a07ec9</td>\n",
       "      <td>x48c7c66-631cf044-15180-6</td>\n",
       "      <td>75</td>\n",
       "      <td>2022-09-11 11:45:15</td>\n",
       "      <td>36</td>\n",
       "    </tr>\n",
       "    <tr>\n",
       "      <th>5</th>\n",
       "      <td>d8dde847-b55a-4a8b-97a3-db7f53a07ec9</td>\n",
       "      <td>x48c7c66-631cf044-15180-6</td>\n",
       "      <td>75</td>\n",
       "      <td>2022-09-11 11:45:30</td>\n",
       "      <td>36</td>\n",
       "    </tr>\n",
       "    <tr>\n",
       "      <th>6</th>\n",
       "      <td>d8dde847-b55a-4a8b-97a3-db7f53a07ec9</td>\n",
       "      <td>x48c7c66-631cf044-15180-6</td>\n",
       "      <td>75</td>\n",
       "      <td>2022-09-11 11:45:45</td>\n",
       "      <td>36</td>\n",
       "    </tr>\n",
       "    <tr>\n",
       "      <th>7</th>\n",
       "      <td>d8dde847-b55a-4a8b-97a3-db7f53a07ec9</td>\n",
       "      <td>x48c7c66-631cf044-15180-6</td>\n",
       "      <td>75</td>\n",
       "      <td>2022-09-11 11:46:00</td>\n",
       "      <td>36</td>\n",
       "    </tr>\n",
       "    <tr>\n",
       "      <th>8</th>\n",
       "      <td>d8dde847-b55a-4a8b-97a3-db7f53a07ec9</td>\n",
       "      <td>x48c7c66-631cf044-15180-6</td>\n",
       "      <td>89</td>\n",
       "      <td>2022-09-11 11:46:15</td>\n",
       "      <td>36</td>\n",
       "    </tr>\n",
       "    <tr>\n",
       "      <th>9</th>\n",
       "      <td>d8dde847-b55a-4a8b-97a3-db7f53a07ec9</td>\n",
       "      <td>x48c7c66-631cf044-15180-6</td>\n",
       "      <td>89</td>\n",
       "      <td>2022-09-11 11:46:30</td>\n",
       "      <td>36</td>\n",
       "    </tr>\n",
       "  </tbody>\n",
       "</table>\n",
       "</div>"
      ]
     },
     "execution_count": 16,
     "metadata": {},
     "output_type": "execute_result"
    }
   ],
   "execution_count": 16
  },
  {
   "metadata": {
    "ExecuteTime": {
     "end_time": "2024-07-22T09:57:35.846073Z",
     "start_time": "2024-07-22T09:57:35.838905Z"
    }
   },
   "cell_type": "code",
   "source": "downsampled_heart_rate[soldier][36].head(4)",
   "id": "b6bdaa2d1ac08328",
   "outputs": [
    {
     "data": {
      "text/plain": [
       "             datetime  pulse  WeekNumber\n",
       "0 2022-09-11 11:44:00  82.00          36\n",
       "1 2022-09-11 11:45:00  76.75          36\n",
       "2 2022-09-11 11:46:00  85.50          36\n",
       "3 2022-09-11 11:47:00  88.25          36"
      ],
      "text/html": [
       "<div>\n",
       "<style scoped>\n",
       "    .dataframe tbody tr th:only-of-type {\n",
       "        vertical-align: middle;\n",
       "    }\n",
       "\n",
       "    .dataframe tbody tr th {\n",
       "        vertical-align: top;\n",
       "    }\n",
       "\n",
       "    .dataframe thead th {\n",
       "        text-align: right;\n",
       "    }\n",
       "</style>\n",
       "<table border=\"1\" class=\"dataframe\">\n",
       "  <thead>\n",
       "    <tr style=\"text-align: right;\">\n",
       "      <th></th>\n",
       "      <th>datetime</th>\n",
       "      <th>pulse</th>\n",
       "      <th>WeekNumber</th>\n",
       "    </tr>\n",
       "  </thead>\n",
       "  <tbody>\n",
       "    <tr>\n",
       "      <th>0</th>\n",
       "      <td>2022-09-11 11:44:00</td>\n",
       "      <td>82.00</td>\n",
       "      <td>36</td>\n",
       "    </tr>\n",
       "    <tr>\n",
       "      <th>1</th>\n",
       "      <td>2022-09-11 11:45:00</td>\n",
       "      <td>76.75</td>\n",
       "      <td>36</td>\n",
       "    </tr>\n",
       "    <tr>\n",
       "      <th>2</th>\n",
       "      <td>2022-09-11 11:46:00</td>\n",
       "      <td>85.50</td>\n",
       "      <td>36</td>\n",
       "    </tr>\n",
       "    <tr>\n",
       "      <th>3</th>\n",
       "      <td>2022-09-11 11:47:00</td>\n",
       "      <td>88.25</td>\n",
       "      <td>36</td>\n",
       "    </tr>\n",
       "  </tbody>\n",
       "</table>\n",
       "</div>"
      ]
     },
     "execution_count": 18,
     "metadata": {},
     "output_type": "execute_result"
    }
   ],
   "execution_count": 18
  },
  {
   "metadata": {},
   "cell_type": "markdown",
   "source": [
    "steps\n",
    "\n",
    "note: the steps when upsampling get propagated "
   ],
   "id": "aa25796e41a83605"
  },
  {
   "metadata": {
    "ExecuteTime": {
     "end_time": "2024-07-22T09:58:09.591258Z",
     "start_time": "2024-07-22T09:58:08.986387Z"
    }
   },
   "cell_type": "code",
   "source": [
    "with open('steps_grid.pkl', 'rb') as file:\n",
    "    steps_grid = pickle.load(file)  # 15 minute intervals"
   ],
   "id": "dba318c88ca9a697",
   "outputs": [],
   "execution_count": 19
  },
  {
   "metadata": {
    "ExecuteTime": {
     "end_time": "2024-07-22T10:18:09.000357Z",
     "start_time": "2024-07-22T10:17:42.683846Z"
    }
   },
   "cell_type": "code",
   "source": [
    "# resampling steps to be 1 minute interval from 15 minute interval\n",
    "heart_rate_zones = [60, 100, 130, 150, 170, 175]  # example hr zones\n",
    "\n",
    "def get_hr_zone(hr, zones):\n",
    "    if pd.isna(hr):\n",
    "        return np.nan\n",
    "    for i, zone in enumerate(zones):\n",
    "        if hr < zone:\n",
    "            return i\n",
    "    return len(zones)\n",
    "\n",
    "upsampled_steps = {}  # 1 minute intervals\n",
    "\n",
    "for user_id, weekly_data in steps_grid.items():     \n",
    "    upsampled_steps[user_id] = {}\n",
    "    for week, df_steps in weekly_data.items():\n",
    "        df_steps_copy = df_steps.copy()\n",
    "        # Duplicate last row so it will upsample last row\n",
    "        last_row = df_steps_copy.tail(1).copy()\n",
    "        last_row['startTimeLocal'] = last_row['startTimeLocal'] + pd.Timedelta(minutes=14)        \n",
    "        df_steps_copy = pd.concat([df_steps_copy, last_row], ignore_index=True)\n",
    "        df_steps_copy.set_index('startTimeLocal', inplace=True)\n",
    "        resampled_steps_df = df_steps_copy.resample('1min').ffill().reset_index()  # Forward fill to upsample to 1-minute intervals\n",
    "        \n",
    "        # Get corresponding heart rate data\n",
    "        df_heart_rate = pd.DataFrame(columns=['datetime','pulse'])\n",
    "        if user_id in downsampled_heart_rate.keys() and week in downsampled_heart_rate[user_id].keys():\n",
    "            df_heart_rate = downsampled_heart_rate[user_id][week]\n",
    "            \n",
    "        # Merge steps data with heart rate data\n",
    "        merged_df = pd.merge(resampled_steps_df, df_heart_rate, left_on='startTimeLocal', right_on='datetime', how='left')\n",
    "        # Assign heart rate zones\n",
    "        merged_df['HR_zone'] = merged_df['pulse'].apply(lambda x: get_hr_zone(x, heart_rate_zones))\n",
    "        \n",
    "        # Set HR_zone to 0 if distanceInMeters is 0\n",
    "        merged_df.loc[merged_df['distanceInMeters'] == 0, 'HR_zone'] = 0\n",
    "        \n",
    "        # Drop unnecessary columns and reset index\n",
    "        # merged_df = merged_df[['startTimeLocal', 'steps', 'userId', 'activeTimeInSeconds', 'distanceInMeters', 'speed', 'is_running', 'HR_zone']]\n",
    "        merged_df = merged_df[['startTimeLocal', 'userId', 'HR_zone','pulse', 'steps']]\n",
    "        \n",
    "        upsampled_steps[user_id][week] = merged_df\n",
    "        "
   ],
   "id": "c33e4b3323cca7a0",
   "outputs": [],
   "execution_count": 20
  },
  {
   "metadata": {
    "ExecuteTime": {
     "end_time": "2024-07-22T10:20:17.747225Z",
     "start_time": "2024-07-22T10:20:17.707935Z"
    }
   },
   "cell_type": "code",
   "source": "steps_grid[soldier][35]",
   "id": "9dc755b1af5de6f1",
   "outputs": [
    {
     "data": {
      "text/plain": [
       "         startTimeLocal  steps                                userId  \\\n",
       "0   2022-09-04 00:00:00      7  d8dde847-b55a-4a8b-97a3-db7f53a07ec9   \n",
       "1   2022-09-04 00:15:00      0  d8dde847-b55a-4a8b-97a3-db7f53a07ec9   \n",
       "2   2022-09-04 00:30:00      0  d8dde847-b55a-4a8b-97a3-db7f53a07ec9   \n",
       "3   2022-09-04 00:45:00      0  d8dde847-b55a-4a8b-97a3-db7f53a07ec9   \n",
       "4   2022-09-04 01:00:00      0  d8dde847-b55a-4a8b-97a3-db7f53a07ec9   \n",
       "..                  ...    ...                                   ...   \n",
       "667 2022-09-10 22:45:00      0  d8dde847-b55a-4a8b-97a3-db7f53a07ec9   \n",
       "668 2022-09-10 23:00:00      0  d8dde847-b55a-4a8b-97a3-db7f53a07ec9   \n",
       "669 2022-09-10 23:15:00      0  d8dde847-b55a-4a8b-97a3-db7f53a07ec9   \n",
       "670 2022-09-10 23:30:00      0  d8dde847-b55a-4a8b-97a3-db7f53a07ec9   \n",
       "671 2022-09-10 23:45:00      0  d8dde847-b55a-4a8b-97a3-db7f53a07ec9   \n",
       "\n",
       "     activeTimeInSeconds  distanceInMeters   speed  is_running  \n",
       "0                    900              5.54  0.3324       False  \n",
       "1                    900              0.00  0.0000       False  \n",
       "2                    900              0.00  0.0000       False  \n",
       "3                    900              0.00  0.0000       False  \n",
       "4                    900              0.00  0.0000       False  \n",
       "..                   ...               ...     ...         ...  \n",
       "667                  900              0.00  0.0000       False  \n",
       "668                  900              0.00  0.0000       False  \n",
       "669                  900              0.00  0.0000       False  \n",
       "670                  900              0.00  0.0000       False  \n",
       "671                  900              0.00  0.0000       False  \n",
       "\n",
       "[672 rows x 7 columns]"
      ],
      "text/html": [
       "<div>\n",
       "<style scoped>\n",
       "    .dataframe tbody tr th:only-of-type {\n",
       "        vertical-align: middle;\n",
       "    }\n",
       "\n",
       "    .dataframe tbody tr th {\n",
       "        vertical-align: top;\n",
       "    }\n",
       "\n",
       "    .dataframe thead th {\n",
       "        text-align: right;\n",
       "    }\n",
       "</style>\n",
       "<table border=\"1\" class=\"dataframe\">\n",
       "  <thead>\n",
       "    <tr style=\"text-align: right;\">\n",
       "      <th></th>\n",
       "      <th>startTimeLocal</th>\n",
       "      <th>steps</th>\n",
       "      <th>userId</th>\n",
       "      <th>activeTimeInSeconds</th>\n",
       "      <th>distanceInMeters</th>\n",
       "      <th>speed</th>\n",
       "      <th>is_running</th>\n",
       "    </tr>\n",
       "  </thead>\n",
       "  <tbody>\n",
       "    <tr>\n",
       "      <th>0</th>\n",
       "      <td>2022-09-04 00:00:00</td>\n",
       "      <td>7</td>\n",
       "      <td>d8dde847-b55a-4a8b-97a3-db7f53a07ec9</td>\n",
       "      <td>900</td>\n",
       "      <td>5.54</td>\n",
       "      <td>0.3324</td>\n",
       "      <td>False</td>\n",
       "    </tr>\n",
       "    <tr>\n",
       "      <th>1</th>\n",
       "      <td>2022-09-04 00:15:00</td>\n",
       "      <td>0</td>\n",
       "      <td>d8dde847-b55a-4a8b-97a3-db7f53a07ec9</td>\n",
       "      <td>900</td>\n",
       "      <td>0.00</td>\n",
       "      <td>0.0000</td>\n",
       "      <td>False</td>\n",
       "    </tr>\n",
       "    <tr>\n",
       "      <th>2</th>\n",
       "      <td>2022-09-04 00:30:00</td>\n",
       "      <td>0</td>\n",
       "      <td>d8dde847-b55a-4a8b-97a3-db7f53a07ec9</td>\n",
       "      <td>900</td>\n",
       "      <td>0.00</td>\n",
       "      <td>0.0000</td>\n",
       "      <td>False</td>\n",
       "    </tr>\n",
       "    <tr>\n",
       "      <th>3</th>\n",
       "      <td>2022-09-04 00:45:00</td>\n",
       "      <td>0</td>\n",
       "      <td>d8dde847-b55a-4a8b-97a3-db7f53a07ec9</td>\n",
       "      <td>900</td>\n",
       "      <td>0.00</td>\n",
       "      <td>0.0000</td>\n",
       "      <td>False</td>\n",
       "    </tr>\n",
       "    <tr>\n",
       "      <th>4</th>\n",
       "      <td>2022-09-04 01:00:00</td>\n",
       "      <td>0</td>\n",
       "      <td>d8dde847-b55a-4a8b-97a3-db7f53a07ec9</td>\n",
       "      <td>900</td>\n",
       "      <td>0.00</td>\n",
       "      <td>0.0000</td>\n",
       "      <td>False</td>\n",
       "    </tr>\n",
       "    <tr>\n",
       "      <th>...</th>\n",
       "      <td>...</td>\n",
       "      <td>...</td>\n",
       "      <td>...</td>\n",
       "      <td>...</td>\n",
       "      <td>...</td>\n",
       "      <td>...</td>\n",
       "      <td>...</td>\n",
       "    </tr>\n",
       "    <tr>\n",
       "      <th>667</th>\n",
       "      <td>2022-09-10 22:45:00</td>\n",
       "      <td>0</td>\n",
       "      <td>d8dde847-b55a-4a8b-97a3-db7f53a07ec9</td>\n",
       "      <td>900</td>\n",
       "      <td>0.00</td>\n",
       "      <td>0.0000</td>\n",
       "      <td>False</td>\n",
       "    </tr>\n",
       "    <tr>\n",
       "      <th>668</th>\n",
       "      <td>2022-09-10 23:00:00</td>\n",
       "      <td>0</td>\n",
       "      <td>d8dde847-b55a-4a8b-97a3-db7f53a07ec9</td>\n",
       "      <td>900</td>\n",
       "      <td>0.00</td>\n",
       "      <td>0.0000</td>\n",
       "      <td>False</td>\n",
       "    </tr>\n",
       "    <tr>\n",
       "      <th>669</th>\n",
       "      <td>2022-09-10 23:15:00</td>\n",
       "      <td>0</td>\n",
       "      <td>d8dde847-b55a-4a8b-97a3-db7f53a07ec9</td>\n",
       "      <td>900</td>\n",
       "      <td>0.00</td>\n",
       "      <td>0.0000</td>\n",
       "      <td>False</td>\n",
       "    </tr>\n",
       "    <tr>\n",
       "      <th>670</th>\n",
       "      <td>2022-09-10 23:30:00</td>\n",
       "      <td>0</td>\n",
       "      <td>d8dde847-b55a-4a8b-97a3-db7f53a07ec9</td>\n",
       "      <td>900</td>\n",
       "      <td>0.00</td>\n",
       "      <td>0.0000</td>\n",
       "      <td>False</td>\n",
       "    </tr>\n",
       "    <tr>\n",
       "      <th>671</th>\n",
       "      <td>2022-09-10 23:45:00</td>\n",
       "      <td>0</td>\n",
       "      <td>d8dde847-b55a-4a8b-97a3-db7f53a07ec9</td>\n",
       "      <td>900</td>\n",
       "      <td>0.00</td>\n",
       "      <td>0.0000</td>\n",
       "      <td>False</td>\n",
       "    </tr>\n",
       "  </tbody>\n",
       "</table>\n",
       "<p>672 rows × 7 columns</p>\n",
       "</div>"
      ]
     },
     "execution_count": 21,
     "metadata": {},
     "output_type": "execute_result"
    }
   ],
   "execution_count": 21
  },
  {
   "metadata": {
    "ExecuteTime": {
     "end_time": "2024-07-22T10:20:20.015283Z",
     "start_time": "2024-07-22T10:20:20.004750Z"
    }
   },
   "cell_type": "code",
   "source": "upsampled_steps[soldier][35]",
   "id": "b4b1b9f8ed78acbf",
   "outputs": [
    {
     "data": {
      "text/plain": [
       "           startTimeLocal                                userId  HR_zone  \\\n",
       "0     2022-09-04 00:00:00  d8dde847-b55a-4a8b-97a3-db7f53a07ec9      0.0   \n",
       "1     2022-09-04 00:01:00  d8dde847-b55a-4a8b-97a3-db7f53a07ec9      0.0   \n",
       "2     2022-09-04 00:02:00  d8dde847-b55a-4a8b-97a3-db7f53a07ec9      0.0   \n",
       "3     2022-09-04 00:03:00  d8dde847-b55a-4a8b-97a3-db7f53a07ec9      0.0   \n",
       "4     2022-09-04 00:04:00  d8dde847-b55a-4a8b-97a3-db7f53a07ec9      0.0   \n",
       "...                   ...                                   ...      ...   \n",
       "10075 2022-09-10 23:55:00  d8dde847-b55a-4a8b-97a3-db7f53a07ec9      0.0   \n",
       "10076 2022-09-10 23:56:00  d8dde847-b55a-4a8b-97a3-db7f53a07ec9      0.0   \n",
       "10077 2022-09-10 23:57:00  d8dde847-b55a-4a8b-97a3-db7f53a07ec9      0.0   \n",
       "10078 2022-09-10 23:58:00  d8dde847-b55a-4a8b-97a3-db7f53a07ec9      0.0   \n",
       "10079 2022-09-10 23:59:00  d8dde847-b55a-4a8b-97a3-db7f53a07ec9      0.0   \n",
       "\n",
       "       pulse  steps  \n",
       "0      54.50      7  \n",
       "1      55.00      7  \n",
       "2      55.00      7  \n",
       "3      56.50      7  \n",
       "4      56.25      7  \n",
       "...      ...    ...  \n",
       "10075    NaN      0  \n",
       "10076    NaN      0  \n",
       "10077    NaN      0  \n",
       "10078    NaN      0  \n",
       "10079    NaN      0  \n",
       "\n",
       "[10080 rows x 5 columns]"
      ],
      "text/html": [
       "<div>\n",
       "<style scoped>\n",
       "    .dataframe tbody tr th:only-of-type {\n",
       "        vertical-align: middle;\n",
       "    }\n",
       "\n",
       "    .dataframe tbody tr th {\n",
       "        vertical-align: top;\n",
       "    }\n",
       "\n",
       "    .dataframe thead th {\n",
       "        text-align: right;\n",
       "    }\n",
       "</style>\n",
       "<table border=\"1\" class=\"dataframe\">\n",
       "  <thead>\n",
       "    <tr style=\"text-align: right;\">\n",
       "      <th></th>\n",
       "      <th>startTimeLocal</th>\n",
       "      <th>userId</th>\n",
       "      <th>HR_zone</th>\n",
       "      <th>pulse</th>\n",
       "      <th>steps</th>\n",
       "    </tr>\n",
       "  </thead>\n",
       "  <tbody>\n",
       "    <tr>\n",
       "      <th>0</th>\n",
       "      <td>2022-09-04 00:00:00</td>\n",
       "      <td>d8dde847-b55a-4a8b-97a3-db7f53a07ec9</td>\n",
       "      <td>0.0</td>\n",
       "      <td>54.50</td>\n",
       "      <td>7</td>\n",
       "    </tr>\n",
       "    <tr>\n",
       "      <th>1</th>\n",
       "      <td>2022-09-04 00:01:00</td>\n",
       "      <td>d8dde847-b55a-4a8b-97a3-db7f53a07ec9</td>\n",
       "      <td>0.0</td>\n",
       "      <td>55.00</td>\n",
       "      <td>7</td>\n",
       "    </tr>\n",
       "    <tr>\n",
       "      <th>2</th>\n",
       "      <td>2022-09-04 00:02:00</td>\n",
       "      <td>d8dde847-b55a-4a8b-97a3-db7f53a07ec9</td>\n",
       "      <td>0.0</td>\n",
       "      <td>55.00</td>\n",
       "      <td>7</td>\n",
       "    </tr>\n",
       "    <tr>\n",
       "      <th>3</th>\n",
       "      <td>2022-09-04 00:03:00</td>\n",
       "      <td>d8dde847-b55a-4a8b-97a3-db7f53a07ec9</td>\n",
       "      <td>0.0</td>\n",
       "      <td>56.50</td>\n",
       "      <td>7</td>\n",
       "    </tr>\n",
       "    <tr>\n",
       "      <th>4</th>\n",
       "      <td>2022-09-04 00:04:00</td>\n",
       "      <td>d8dde847-b55a-4a8b-97a3-db7f53a07ec9</td>\n",
       "      <td>0.0</td>\n",
       "      <td>56.25</td>\n",
       "      <td>7</td>\n",
       "    </tr>\n",
       "    <tr>\n",
       "      <th>...</th>\n",
       "      <td>...</td>\n",
       "      <td>...</td>\n",
       "      <td>...</td>\n",
       "      <td>...</td>\n",
       "      <td>...</td>\n",
       "    </tr>\n",
       "    <tr>\n",
       "      <th>10075</th>\n",
       "      <td>2022-09-10 23:55:00</td>\n",
       "      <td>d8dde847-b55a-4a8b-97a3-db7f53a07ec9</td>\n",
       "      <td>0.0</td>\n",
       "      <td>NaN</td>\n",
       "      <td>0</td>\n",
       "    </tr>\n",
       "    <tr>\n",
       "      <th>10076</th>\n",
       "      <td>2022-09-10 23:56:00</td>\n",
       "      <td>d8dde847-b55a-4a8b-97a3-db7f53a07ec9</td>\n",
       "      <td>0.0</td>\n",
       "      <td>NaN</td>\n",
       "      <td>0</td>\n",
       "    </tr>\n",
       "    <tr>\n",
       "      <th>10077</th>\n",
       "      <td>2022-09-10 23:57:00</td>\n",
       "      <td>d8dde847-b55a-4a8b-97a3-db7f53a07ec9</td>\n",
       "      <td>0.0</td>\n",
       "      <td>NaN</td>\n",
       "      <td>0</td>\n",
       "    </tr>\n",
       "    <tr>\n",
       "      <th>10078</th>\n",
       "      <td>2022-09-10 23:58:00</td>\n",
       "      <td>d8dde847-b55a-4a8b-97a3-db7f53a07ec9</td>\n",
       "      <td>0.0</td>\n",
       "      <td>NaN</td>\n",
       "      <td>0</td>\n",
       "    </tr>\n",
       "    <tr>\n",
       "      <th>10079</th>\n",
       "      <td>2022-09-10 23:59:00</td>\n",
       "      <td>d8dde847-b55a-4a8b-97a3-db7f53a07ec9</td>\n",
       "      <td>0.0</td>\n",
       "      <td>NaN</td>\n",
       "      <td>0</td>\n",
       "    </tr>\n",
       "  </tbody>\n",
       "</table>\n",
       "<p>10080 rows × 5 columns</p>\n",
       "</div>"
      ]
     },
     "execution_count": 22,
     "metadata": {},
     "output_type": "execute_result"
    }
   ],
   "execution_count": 22
  },
  {
   "metadata": {},
   "cell_type": "code",
   "outputs": [],
   "execution_count": null,
   "source": "",
   "id": "dd7663e53fd11c98"
  },
  {
   "metadata": {},
   "cell_type": "code",
   "outputs": [],
   "execution_count": null,
   "source": "",
   "id": "5e44feef48b1eee2"
  },
  {
   "metadata": {},
   "cell_type": "markdown",
   "source": [
    "completing sleep, \n",
    "\n",
    "requires min_avg_hrs, downsampled_heart_rate, and upsampled_steps"
   ],
   "id": "44aba296c228a4ca"
  },
  {
   "metadata": {
    "ExecuteTime": {
     "end_time": "2024-07-22T10:21:08.886797Z",
     "start_time": "2024-07-22T10:21:06.316175Z"
    }
   },
   "cell_type": "code",
   "source": [
    "with open('sleeping.pkl', 'rb') as file:\n",
    "    sleeping = pickle.load(file)"
   ],
   "id": "9d54c922d999da68",
   "outputs": [],
   "execution_count": 23
  },
  {
   "metadata": {
    "ExecuteTime": {
     "end_time": "2024-07-22T11:05:38.435310Z",
     "start_time": "2024-07-22T11:00:29.442328Z"
    }
   },
   "cell_type": "code",
   "source": [
    "from datetime import timedelta\n",
    "\n",
    "def add_time_offsets(row):\n",
    "    return row['Date'] + timedelta(hours=row['Hour'], minutes=row['Minute'])\n",
    "\n",
    "completed_sleep = {}\n",
    "\n",
    "for user_id, weekly_data in sleeping.items():    \n",
    "        \n",
    "    completed_sleep[user_id] = {}\n",
    "    for week, df_sleep in weekly_data.items():\n",
    "        df_sleep_copy = df_sleep.copy()\n",
    "        df_sleep_copy['datetime'] = df_sleep_copy.apply(add_time_offsets, axis=1)\n",
    "    \n",
    "        # Get corresponding heart rate data\n",
    "        df_heart_rate = pd.DataFrame(columns=['datetime','pulse'])\n",
    "        if user_id in downsampled_heart_rate.keys() and week in downsampled_heart_rate[user_id].keys():\n",
    "            df_heart_rate = downsampled_heart_rate[user_id][week]\n",
    "        # Merge data with heart rate data\n",
    "        merged_df = pd.merge(df_sleep_copy, df_heart_rate, left_on='datetime', right_on='datetime', how='left')\n",
    "        \n",
    "        # Get corresponding steps data\n",
    "        df_steps = pd.DataFrame(columns=['startTimeLocal','steps'])\n",
    "        if user_id in upsampled_steps.keys() and week in upsampled_steps[user_id].keys():\n",
    "            df_steps = upsampled_steps[user_id][week][['startTimeLocal', 'steps']]\n",
    "        # Merge data with heart rate data\n",
    "        merged_df = pd.merge(merged_df, df_steps, left_on='datetime', right_on='startTimeLocal', how='left')\n",
    "        \n",
    "        # Drop unnecessary columns and reset index\n",
    "        # merged_df = merged_df[['startTimeLocal', 'steps', 'userId', 'activeTimeInSeconds', 'distanceInMeters', 'speed', 'is_running', 'HR_zone']]\n",
    "        merged_df = merged_df[['Date', 'Hour', 'Minute','SleepState', 'pulse', 'steps', 'datetime']]  # week number?\n",
    "        # datetime is useful for graphing\n",
    "        \n",
    "        # SleepState is 1 for sleeping, 0 for awake\n",
    "        \n",
    "        min_hr = min_avg_hrs.get(user_id, 0)\n",
    "        \n",
    "        # fill in night: 19:00 to 06:00\n",
    "        night_mask = (merged_df['Hour'] >= 19) | (merged_df['Hour'] < 6)\n",
    "        # if HR <= min_hr then SleepState = 1\n",
    "        merged_df.loc[night_mask & (merged_df['pulse'] <= min_hr), 'SleepState'] = 1\n",
    "        \n",
    "        # fill in day: 06:00 to 19:00\n",
    "        day_mask = (merged_df['Hour'] >= 6) & (merged_df['Hour'] < 19)\n",
    "        # if steps == 0 and HR < 1.15*min_hr then SleepState = 1\n",
    "        merged_df.loc[day_mask & (merged_df['steps'] == 0) & (merged_df['pulse'] < min_hr * 1.15), 'SleepState'] = 1\n",
    "        \n",
    "        # if 5 rows in a row are 'Deep Sleep'/'Light Sleep'/1 then following row is 1\n",
    "        sleep_series = merged_df['SleepState']\n",
    "        count = 0\n",
    "        for i in range(len(sleep_series)-1):\n",
    "            if sleep_series.iloc[i] in {1, 'Deep Sleep', 'Light Sleep'}:\n",
    "                count += 1\n",
    "                if count >= 5 and sleep_series.iloc[i+1] == '?':\n",
    "                        merged_df.loc[i+1:i+2, 'SleepState'] = 5\n",
    "                        # making it 5 so that it won't be counted in next iteration\n",
    "            else:\n",
    "                count = 0\n",
    "        \n",
    "        # Replace '?' and 'Awake' with 0 (awake)\n",
    "        merged_df.loc[merged_df['SleepState'].isin(['?', 'Awake']), 'SleepState'] = 0\n",
    "        \n",
    "        # Replace 'Light Sleep' and 'Deep Sleep' with 1 (sleeping)\n",
    "        merged_df.loc[merged_df['SleepState'].isin(['Light Sleep', 'Deep Sleep', 5]), 'SleepState'] = 1\n",
    "\n",
    "        merged_df['SleepState'] = merged_df['SleepState'].astype(int)\n",
    "        completed_sleep[user_id][week] = merged_df\n",
    "        "
   ],
   "id": "4f32078a6c9795e6",
   "outputs": [],
   "execution_count": 29
  },
  {
   "metadata": {
    "ExecuteTime": {
     "end_time": "2024-07-22T11:06:09.937062Z",
     "start_time": "2024-07-22T11:06:09.930814Z"
    }
   },
   "cell_type": "code",
   "source": [
    "# soldierID = 'c062c143-35bd-48e8-a711-12b2909230f0'\n",
    "print(f'soldier\\'s min avg hr is {min_avg_hrs[soldier]}')\n",
    "sleeping[soldier].keys()"
   ],
   "id": "4b0406cc27071071",
   "outputs": [
    {
     "name": "stdout",
     "output_type": "stream",
     "text": [
      "soldier's min avg hr is 59.0\n"
     ]
    },
    {
     "data": {
      "text/plain": [
       "dict_keys([3, 4, 5, 6, 7, 34, 35, 36, 37, 38, 41, 42, 43, 44, 45])"
      ]
     },
     "execution_count": 30,
     "metadata": {},
     "output_type": "execute_result"
    }
   ],
   "execution_count": 30
  },
  {
   "metadata": {
    "ExecuteTime": {
     "end_time": "2024-07-22T11:06:12.718571Z",
     "start_time": "2024-07-22T11:06:12.709685Z"
    }
   },
   "cell_type": "code",
   "source": "sleeping[soldier][35]",
   "id": "821fd653702ee239",
   "outputs": [
    {
     "data": {
      "text/plain": [
       "           Date Hour Minute   SleepState  WeekNumber\n",
       "1586 2022-09-04    0      0  Light Sleep          35\n",
       "1587 2022-09-04    0      1  Light Sleep          35\n",
       "1588 2022-09-04    0      2            ?          35\n",
       "1589 2022-09-04    0      3            ?          35\n",
       "1590 2022-09-04    0      4            ?          35\n",
       "...         ...  ...    ...          ...         ...\n",
       "9048 2022-09-08   23     55            ?          35\n",
       "9049 2022-09-08   23     56            ?          35\n",
       "9050 2022-09-08   23     57            ?          35\n",
       "9051 2022-09-08   23     58            ?          35\n",
       "9052 2022-09-08   23     59            ?          35\n",
       "\n",
       "[7467 rows x 5 columns]"
      ],
      "text/html": [
       "<div>\n",
       "<style scoped>\n",
       "    .dataframe tbody tr th:only-of-type {\n",
       "        vertical-align: middle;\n",
       "    }\n",
       "\n",
       "    .dataframe tbody tr th {\n",
       "        vertical-align: top;\n",
       "    }\n",
       "\n",
       "    .dataframe thead th {\n",
       "        text-align: right;\n",
       "    }\n",
       "</style>\n",
       "<table border=\"1\" class=\"dataframe\">\n",
       "  <thead>\n",
       "    <tr style=\"text-align: right;\">\n",
       "      <th></th>\n",
       "      <th>Date</th>\n",
       "      <th>Hour</th>\n",
       "      <th>Minute</th>\n",
       "      <th>SleepState</th>\n",
       "      <th>WeekNumber</th>\n",
       "    </tr>\n",
       "  </thead>\n",
       "  <tbody>\n",
       "    <tr>\n",
       "      <th>1586</th>\n",
       "      <td>2022-09-04</td>\n",
       "      <td>0</td>\n",
       "      <td>0</td>\n",
       "      <td>Light Sleep</td>\n",
       "      <td>35</td>\n",
       "    </tr>\n",
       "    <tr>\n",
       "      <th>1587</th>\n",
       "      <td>2022-09-04</td>\n",
       "      <td>0</td>\n",
       "      <td>1</td>\n",
       "      <td>Light Sleep</td>\n",
       "      <td>35</td>\n",
       "    </tr>\n",
       "    <tr>\n",
       "      <th>1588</th>\n",
       "      <td>2022-09-04</td>\n",
       "      <td>0</td>\n",
       "      <td>2</td>\n",
       "      <td>?</td>\n",
       "      <td>35</td>\n",
       "    </tr>\n",
       "    <tr>\n",
       "      <th>1589</th>\n",
       "      <td>2022-09-04</td>\n",
       "      <td>0</td>\n",
       "      <td>3</td>\n",
       "      <td>?</td>\n",
       "      <td>35</td>\n",
       "    </tr>\n",
       "    <tr>\n",
       "      <th>1590</th>\n",
       "      <td>2022-09-04</td>\n",
       "      <td>0</td>\n",
       "      <td>4</td>\n",
       "      <td>?</td>\n",
       "      <td>35</td>\n",
       "    </tr>\n",
       "    <tr>\n",
       "      <th>...</th>\n",
       "      <td>...</td>\n",
       "      <td>...</td>\n",
       "      <td>...</td>\n",
       "      <td>...</td>\n",
       "      <td>...</td>\n",
       "    </tr>\n",
       "    <tr>\n",
       "      <th>9048</th>\n",
       "      <td>2022-09-08</td>\n",
       "      <td>23</td>\n",
       "      <td>55</td>\n",
       "      <td>?</td>\n",
       "      <td>35</td>\n",
       "    </tr>\n",
       "    <tr>\n",
       "      <th>9049</th>\n",
       "      <td>2022-09-08</td>\n",
       "      <td>23</td>\n",
       "      <td>56</td>\n",
       "      <td>?</td>\n",
       "      <td>35</td>\n",
       "    </tr>\n",
       "    <tr>\n",
       "      <th>9050</th>\n",
       "      <td>2022-09-08</td>\n",
       "      <td>23</td>\n",
       "      <td>57</td>\n",
       "      <td>?</td>\n",
       "      <td>35</td>\n",
       "    </tr>\n",
       "    <tr>\n",
       "      <th>9051</th>\n",
       "      <td>2022-09-08</td>\n",
       "      <td>23</td>\n",
       "      <td>58</td>\n",
       "      <td>?</td>\n",
       "      <td>35</td>\n",
       "    </tr>\n",
       "    <tr>\n",
       "      <th>9052</th>\n",
       "      <td>2022-09-08</td>\n",
       "      <td>23</td>\n",
       "      <td>59</td>\n",
       "      <td>?</td>\n",
       "      <td>35</td>\n",
       "    </tr>\n",
       "  </tbody>\n",
       "</table>\n",
       "<p>7467 rows × 5 columns</p>\n",
       "</div>"
      ]
     },
     "execution_count": 31,
     "metadata": {},
     "output_type": "execute_result"
    }
   ],
   "execution_count": 31
  },
  {
   "metadata": {
    "ExecuteTime": {
     "end_time": "2024-07-22T11:06:21.622138Z",
     "start_time": "2024-07-22T11:06:21.612269Z"
    }
   },
   "cell_type": "code",
   "source": [
    "completed_sleep[soldier][35]\n",
    "# min_avg_hrs[soldier]"
   ],
   "id": "fbd73b02a2cf898a",
   "outputs": [
    {
     "data": {
      "text/plain": [
       "           Date Hour Minute  SleepState  pulse  steps            datetime\n",
       "0    2022-09-04    0      0           1  54.50      7 2022-09-04 00:00:00\n",
       "1    2022-09-04    0      1           1  55.00      7 2022-09-04 00:01:00\n",
       "2    2022-09-04    0      2           1  55.00      7 2022-09-04 00:02:00\n",
       "3    2022-09-04    0      3           1  56.50      7 2022-09-04 00:03:00\n",
       "4    2022-09-04    0      4           1  56.25      7 2022-09-04 00:04:00\n",
       "...         ...  ...    ...         ...    ...    ...                 ...\n",
       "7462 2022-09-08   23     55           0    NaN      0 2022-09-08 23:55:00\n",
       "7463 2022-09-08   23     56           0    NaN      0 2022-09-08 23:56:00\n",
       "7464 2022-09-08   23     57           0    NaN      0 2022-09-08 23:57:00\n",
       "7465 2022-09-08   23     58           0    NaN      0 2022-09-08 23:58:00\n",
       "7466 2022-09-08   23     59           0    NaN      0 2022-09-08 23:59:00\n",
       "\n",
       "[7467 rows x 7 columns]"
      ],
      "text/html": [
       "<div>\n",
       "<style scoped>\n",
       "    .dataframe tbody tr th:only-of-type {\n",
       "        vertical-align: middle;\n",
       "    }\n",
       "\n",
       "    .dataframe tbody tr th {\n",
       "        vertical-align: top;\n",
       "    }\n",
       "\n",
       "    .dataframe thead th {\n",
       "        text-align: right;\n",
       "    }\n",
       "</style>\n",
       "<table border=\"1\" class=\"dataframe\">\n",
       "  <thead>\n",
       "    <tr style=\"text-align: right;\">\n",
       "      <th></th>\n",
       "      <th>Date</th>\n",
       "      <th>Hour</th>\n",
       "      <th>Minute</th>\n",
       "      <th>SleepState</th>\n",
       "      <th>pulse</th>\n",
       "      <th>steps</th>\n",
       "      <th>datetime</th>\n",
       "    </tr>\n",
       "  </thead>\n",
       "  <tbody>\n",
       "    <tr>\n",
       "      <th>0</th>\n",
       "      <td>2022-09-04</td>\n",
       "      <td>0</td>\n",
       "      <td>0</td>\n",
       "      <td>1</td>\n",
       "      <td>54.50</td>\n",
       "      <td>7</td>\n",
       "      <td>2022-09-04 00:00:00</td>\n",
       "    </tr>\n",
       "    <tr>\n",
       "      <th>1</th>\n",
       "      <td>2022-09-04</td>\n",
       "      <td>0</td>\n",
       "      <td>1</td>\n",
       "      <td>1</td>\n",
       "      <td>55.00</td>\n",
       "      <td>7</td>\n",
       "      <td>2022-09-04 00:01:00</td>\n",
       "    </tr>\n",
       "    <tr>\n",
       "      <th>2</th>\n",
       "      <td>2022-09-04</td>\n",
       "      <td>0</td>\n",
       "      <td>2</td>\n",
       "      <td>1</td>\n",
       "      <td>55.00</td>\n",
       "      <td>7</td>\n",
       "      <td>2022-09-04 00:02:00</td>\n",
       "    </tr>\n",
       "    <tr>\n",
       "      <th>3</th>\n",
       "      <td>2022-09-04</td>\n",
       "      <td>0</td>\n",
       "      <td>3</td>\n",
       "      <td>1</td>\n",
       "      <td>56.50</td>\n",
       "      <td>7</td>\n",
       "      <td>2022-09-04 00:03:00</td>\n",
       "    </tr>\n",
       "    <tr>\n",
       "      <th>4</th>\n",
       "      <td>2022-09-04</td>\n",
       "      <td>0</td>\n",
       "      <td>4</td>\n",
       "      <td>1</td>\n",
       "      <td>56.25</td>\n",
       "      <td>7</td>\n",
       "      <td>2022-09-04 00:04:00</td>\n",
       "    </tr>\n",
       "    <tr>\n",
       "      <th>...</th>\n",
       "      <td>...</td>\n",
       "      <td>...</td>\n",
       "      <td>...</td>\n",
       "      <td>...</td>\n",
       "      <td>...</td>\n",
       "      <td>...</td>\n",
       "      <td>...</td>\n",
       "    </tr>\n",
       "    <tr>\n",
       "      <th>7462</th>\n",
       "      <td>2022-09-08</td>\n",
       "      <td>23</td>\n",
       "      <td>55</td>\n",
       "      <td>0</td>\n",
       "      <td>NaN</td>\n",
       "      <td>0</td>\n",
       "      <td>2022-09-08 23:55:00</td>\n",
       "    </tr>\n",
       "    <tr>\n",
       "      <th>7463</th>\n",
       "      <td>2022-09-08</td>\n",
       "      <td>23</td>\n",
       "      <td>56</td>\n",
       "      <td>0</td>\n",
       "      <td>NaN</td>\n",
       "      <td>0</td>\n",
       "      <td>2022-09-08 23:56:00</td>\n",
       "    </tr>\n",
       "    <tr>\n",
       "      <th>7464</th>\n",
       "      <td>2022-09-08</td>\n",
       "      <td>23</td>\n",
       "      <td>57</td>\n",
       "      <td>0</td>\n",
       "      <td>NaN</td>\n",
       "      <td>0</td>\n",
       "      <td>2022-09-08 23:57:00</td>\n",
       "    </tr>\n",
       "    <tr>\n",
       "      <th>7465</th>\n",
       "      <td>2022-09-08</td>\n",
       "      <td>23</td>\n",
       "      <td>58</td>\n",
       "      <td>0</td>\n",
       "      <td>NaN</td>\n",
       "      <td>0</td>\n",
       "      <td>2022-09-08 23:58:00</td>\n",
       "    </tr>\n",
       "    <tr>\n",
       "      <th>7466</th>\n",
       "      <td>2022-09-08</td>\n",
       "      <td>23</td>\n",
       "      <td>59</td>\n",
       "      <td>0</td>\n",
       "      <td>NaN</td>\n",
       "      <td>0</td>\n",
       "      <td>2022-09-08 23:59:00</td>\n",
       "    </tr>\n",
       "  </tbody>\n",
       "</table>\n",
       "<p>7467 rows × 7 columns</p>\n",
       "</div>"
      ]
     },
     "execution_count": 33,
     "metadata": {},
     "output_type": "execute_result"
    }
   ],
   "execution_count": 33
  },
  {
   "metadata": {
    "ExecuteTime": {
     "end_time": "2024-07-22T11:10:45.286197Z",
     "start_time": "2024-07-22T11:10:29.970828Z"
    }
   },
   "cell_type": "code",
   "source": [
    "# plot a single graph: soldier & week_num\n",
    "\n",
    "# Plotting\n",
    "plt.figure(figsize=(15, 5))\n",
    "\n",
    "weeks = completed_sleep[soldier].keys()\n",
    "\n",
    "week = 35\n",
    "to_plot = completed_sleep[soldier][week]\n",
    "\n",
    "# Plot sleep state as blocks of color\n",
    "# awake/0 in green\n",
    "# sleeping/1 in red\n",
    "for i, row in to_plot.iterrows():\n",
    "    color = 'red' if row['SleepState'] == 1 else 'green'\n",
    "    plt.fill_between([row['datetime'], row['datetime'] + timedelta(minutes=1)], 0, 1, color=color)\n",
    "\n",
    "# Customize the plot\n",
    "plt.xlabel('Time')\n",
    "plt.ylabel('Sleep State')\n",
    "plt.title(f'Sleep State Over Time for Soldier {soldier} Week {week}')\n",
    "plt.yticks([0, 1], ['', ''])\n",
    "plt.ylim(0, 1)\n",
    "\n",
    "# Format x-axis for better readability\n",
    "plt.xticks(rotation=45, ha='right')\n",
    "plt.tight_layout()\n",
    "\n",
    "plt.show()"
   ],
   "id": "61e6e2e9abe64c3a",
   "outputs": [
    {
     "data": {
      "text/plain": [
       "<Figure size 1500x500 with 1 Axes>"
      ],
      "image/png": "[encoded data removed]"
     },
     "metadata": {},
     "output_type": "display_data"
    }
   ],
   "execution_count": 36
  },
  {
   "metadata": {
    "ExecuteTime": {
     "end_time": "2024-07-22T11:17:53.689958Z",
     "start_time": "2024-07-22T11:14:55.880879Z"
    }
   },
   "cell_type": "code",
   "source": [
    "# plot all weeks for a soldier\n",
    "\n",
    "# Determine the number of weeks to plot\n",
    "weeks = list(completed_sleep[soldier].keys())\n",
    "num_weeks = len(weeks)\n",
    "\n",
    "# Create a grid of subplots\n",
    "cols = 2  # number of columns in the grid\n",
    "rows = (num_weeks + cols - 1) // cols  # calculate the number of rows needed\n",
    "\n",
    "fig, axes = plt.subplots(rows, cols, figsize=(15, 5 * rows), sharey=True)\n",
    "\n",
    "# Plot each week\n",
    "for idx, week in enumerate(weeks):\n",
    "    row = idx // cols\n",
    "    col = idx % cols\n",
    "    ax = axes[row, col]\n",
    "    to_plot = completed_sleep[soldier][week]\n",
    "    \n",
    "    # Plot sleep state as blocks of color\n",
    "    # awake/0 in green\n",
    "    # sleeping/1 in red\n",
    "    for i, row_data in to_plot.iterrows():\n",
    "        color = 'red' if row_data['SleepState'] == 1 else 'green'\n",
    "        ax.fill_between([row_data['datetime'], row_data['datetime'] + timedelta(minutes=1)], 0, 1, color=color)\n",
    "    \n",
    "    # Customize the plot\n",
    "    ax.set_xlabel('Time')\n",
    "    ax.set_ylabel('Sleep State')\n",
    "    ax.set_title(f'Week {week}')\n",
    "    ax.set_yticks([0, 1])\n",
    "    ax.set_yticklabels(['', ''])\n",
    "    ax.set_ylim(0, 1)\n",
    "    ax.tick_params(axis='x', rotation=45)\n",
    "    ax.set_xlim(to_plot['datetime'].min(), to_plot['datetime'].max())\n",
    "\n",
    "# Hide any empty subplots\n",
    "for idx in range(num_weeks, rows * cols):\n",
    "    fig.delaxes(axes.flatten()[idx])\n",
    "\n",
    "fig.suptitle(f'Sleep State Over Time for Soldier {soldier}', fontsize=16)\n",
    "plt.tight_layout(rect=[0, 0, 1, 0.96])\n",
    "plt.show()"
   ],
   "id": "d07c41dfd4b1d71d",
   "outputs": [
    {
     "data": {
      "text/plain": [
       "<Figure size 1500x4000 with 15 Axes>"
      ],
      "image/png": "[encoded data removed]"
     },
     "metadata": {},
     "output_type": "display_data"
    }
   ],
   "execution_count": 38
  },
  {
   "metadata": {},
   "cell_type": "code",
   "outputs": [],
   "execution_count": null,
   "source": "",
   "id": "a745cb1a1a8890ae"
  },
  {
   "metadata": {},
   "cell_type": "code",
   "outputs": [],
   "execution_count": null,
   "source": "",
   "id": "1be9fc7ca924ee12"
  }
 ],
 "metadata": {
  "kernelspec": {
   "display_name": "Python 3",
   "language": "python",
   "name": "python3"
  },
  "language_info": {
   "codemirror_mode": {
    "name": "ipython",
    "version": 2
   },
   "file_extension": ".py",
   "mimetype": "text/x-python",
   "name": "python",
   "nbconvert_exporter": "python",
   "pygments_lexer": "ipython2",
   "version": "2.7.6"
  }
 },
 "nbformat": 4,
 "nbformat_minor": 5
}
