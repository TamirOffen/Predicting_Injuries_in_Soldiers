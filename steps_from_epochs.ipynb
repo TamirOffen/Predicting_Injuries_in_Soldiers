{
 "cells": [
  {
   "metadata": {},
   "cell_type": "markdown",
   "source": "# Get steps (and other features) from epochs.csv",
   "id": "23f85d4b011ea169"
  },
  {
   "metadata": {
    "ExecuteTime": {
     "end_time": "2024-06-01T12:17:46.781594Z",
     "start_time": "2024-06-01T12:17:45.252955Z"
    }
   },
   "cell_type": "code",
   "source": [
    "# imports\n",
    "import pandas as pd\n",
    "import pickle"
   ],
   "id": "39a4fc4b25f5b99e",
   "outputs": [],
   "execution_count": 1
  },
  {
   "metadata": {
    "ExecuteTime": {
     "end_time": "2024-06-01T12:17:51.140448Z",
     "start_time": "2024-06-01T12:17:46.783421Z"
    }
   },
   "cell_type": "code",
   "source": [
    "# load dataset\n",
    "df = pd.read_csv('data/epochs.csv')\n",
    "print(f'num of examples: {df.shape[0]}\\nnum of categories: {df.shape[1]}')\n",
    "df.head()"
   ],
   "id": "5c0d825f872775eb",
   "outputs": [
    {
     "name": "stdout",
     "output_type": "stream",
     "text": [
      "num of examples: 2119020\n",
      "num of categories: 15\n"
     ]
    },
    {
     "data": {
      "text/plain": [
       "                                 userId                       userAccessToken  \\\n",
       "0  e31d5fa7-7a63-43a6-973a-f2169c0661f7  69420bd2-052d-4df2-9ba1-55d9b2fd7489   \n",
       "1  e31d5fa7-7a63-43a6-973a-f2169c0661f7  69420bd2-052d-4df2-9ba1-55d9b2fd7489   \n",
       "2  e31d5fa7-7a63-43a6-973a-f2169c0661f7  69420bd2-052d-4df2-9ba1-55d9b2fd7489   \n",
       "3  e31d5fa7-7a63-43a6-973a-f2169c0661f7  69420bd2-052d-4df2-9ba1-55d9b2fd7489   \n",
       "4  e31d5fa7-7a63-43a6-973a-f2169c0661f7  69420bd2-052d-4df2-9ba1-55d9b2fd7489   \n",
       "\n",
       "              summaryId activityType  activeKilocalories  steps  \\\n",
       "0  sd46aeb3d-626066e3-6      WALKING                  93   1506   \n",
       "1  sd46aeb3d-62606a67-6      WALKING                   3   1174   \n",
       "2  sd46aeb3d-62606a67-8    SEDENTARY                   0      0   \n",
       "3  sd46aeb3d-62606deb-6      WALKING                  41   1363   \n",
       "4  sd46aeb3d-6260716f-6      WALKING                  73   1755   \n",
       "\n",
       "   distanceInMeters  durationInSeconds  activeTimeInSeconds  \\\n",
       "0            125.73              900.0                  860   \n",
       "1            207.00              900.0                  584   \n",
       "2              0.00              900.0                  143   \n",
       "3            222.45              900.0                  188   \n",
       "4            461.11              900.0                  269   \n",
       "\n",
       "   startTimeInSeconds  startTimeOffsetInSeconds        met      intensity  \\\n",
       "0          1650484963                    -18000  11.544035  HIGHLY_ACTIVE   \n",
       "1          1650485863                    -18000  42.362816  HIGHLY_ACTIVE   \n",
       "2          1650485863                    -18000   1.000000      SEDENTARY   \n",
       "3          1650486763                    -18000  44.880870  HIGHLY_ACTIVE   \n",
       "4          1650487663                    -18000   6.175430  HIGHLY_ACTIVE   \n",
       "\n",
       "   meanMotionIntensity  maxMotionIntensity  \n",
       "0             2.411726            4.152604  \n",
       "1             3.986872            5.518433  \n",
       "2             0.000000            0.000000  \n",
       "3             3.548326            3.323441  \n",
       "4             5.397980            6.647376  "
      ],
      "text/html": [
       "<div>\n",
       "<style scoped>\n",
       "    .dataframe tbody tr th:only-of-type {\n",
       "        vertical-align: middle;\n",
       "    }\n",
       "\n",
       "    .dataframe tbody tr th {\n",
       "        vertical-align: top;\n",
       "    }\n",
       "\n",
       "    .dataframe thead th {\n",
       "        text-align: right;\n",
       "    }\n",
       "</style>\n",
       "<table border=\"1\" class=\"dataframe\">\n",
       "  <thead>\n",
       "    <tr style=\"text-align: right;\">\n",
       "      <th></th>\n",
       "      <th>userId</th>\n",
       "      <th>userAccessToken</th>\n",
       "      <th>summaryId</th>\n",
       "      <th>activityType</th>\n",
       "      <th>activeKilocalories</th>\n",
       "      <th>steps</th>\n",
       "      <th>distanceInMeters</th>\n",
       "      <th>durationInSeconds</th>\n",
       "      <th>activeTimeInSeconds</th>\n",
       "      <th>startTimeInSeconds</th>\n",
       "      <th>startTimeOffsetInSeconds</th>\n",
       "      <th>met</th>\n",
       "      <th>intensity</th>\n",
       "      <th>meanMotionIntensity</th>\n",
       "      <th>maxMotionIntensity</th>\n",
       "    </tr>\n",
       "  </thead>\n",
       "  <tbody>\n",
       "    <tr>\n",
       "      <th>0</th>\n",
       "      <td>e31d5fa7-7a63-43a6-973a-f2169c0661f7</td>\n",
       "      <td>69420bd2-052d-4df2-9ba1-55d9b2fd7489</td>\n",
       "      <td>sd46aeb3d-626066e3-6</td>\n",
       "      <td>WALKING</td>\n",
       "      <td>93</td>\n",
       "      <td>1506</td>\n",
       "      <td>125.73</td>\n",
       "      <td>900.0</td>\n",
       "      <td>860</td>\n",
       "      <td>1650484963</td>\n",
       "      <td>-18000</td>\n",
       "      <td>11.544035</td>\n",
       "      <td>HIGHLY_ACTIVE</td>\n",
       "      <td>2.411726</td>\n",
       "      <td>4.152604</td>\n",
       "    </tr>\n",
       "    <tr>\n",
       "      <th>1</th>\n",
       "      <td>e31d5fa7-7a63-43a6-973a-f2169c0661f7</td>\n",
       "      <td>69420bd2-052d-4df2-9ba1-55d9b2fd7489</td>\n",
       "      <td>sd46aeb3d-62606a67-6</td>\n",
       "      <td>WALKING</td>\n",
       "      <td>3</td>\n",
       "      <td>1174</td>\n",
       "      <td>207.00</td>\n",
       "      <td>900.0</td>\n",
       "      <td>584</td>\n",
       "      <td>1650485863</td>\n",
       "      <td>-18000</td>\n",
       "      <td>42.362816</td>\n",
       "      <td>HIGHLY_ACTIVE</td>\n",
       "      <td>3.986872</td>\n",
       "      <td>5.518433</td>\n",
       "    </tr>\n",
       "    <tr>\n",
       "      <th>2</th>\n",
       "      <td>e31d5fa7-7a63-43a6-973a-f2169c0661f7</td>\n",
       "      <td>69420bd2-052d-4df2-9ba1-55d9b2fd7489</td>\n",
       "      <td>sd46aeb3d-62606a67-8</td>\n",
       "      <td>SEDENTARY</td>\n",
       "      <td>0</td>\n",
       "      <td>0</td>\n",
       "      <td>0.00</td>\n",
       "      <td>900.0</td>\n",
       "      <td>143</td>\n",
       "      <td>1650485863</td>\n",
       "      <td>-18000</td>\n",
       "      <td>1.000000</td>\n",
       "      <td>SEDENTARY</td>\n",
       "      <td>0.000000</td>\n",
       "      <td>0.000000</td>\n",
       "    </tr>\n",
       "    <tr>\n",
       "      <th>3</th>\n",
       "      <td>e31d5fa7-7a63-43a6-973a-f2169c0661f7</td>\n",
       "      <td>69420bd2-052d-4df2-9ba1-55d9b2fd7489</td>\n",
       "      <td>sd46aeb3d-62606deb-6</td>\n",
       "      <td>WALKING</td>\n",
       "      <td>41</td>\n",
       "      <td>1363</td>\n",
       "      <td>222.45</td>\n",
       "      <td>900.0</td>\n",
       "      <td>188</td>\n",
       "      <td>1650486763</td>\n",
       "      <td>-18000</td>\n",
       "      <td>44.880870</td>\n",
       "      <td>HIGHLY_ACTIVE</td>\n",
       "      <td>3.548326</td>\n",
       "      <td>3.323441</td>\n",
       "    </tr>\n",
       "    <tr>\n",
       "      <th>4</th>\n",
       "      <td>e31d5fa7-7a63-43a6-973a-f2169c0661f7</td>\n",
       "      <td>69420bd2-052d-4df2-9ba1-55d9b2fd7489</td>\n",
       "      <td>sd46aeb3d-6260716f-6</td>\n",
       "      <td>WALKING</td>\n",
       "      <td>73</td>\n",
       "      <td>1755</td>\n",
       "      <td>461.11</td>\n",
       "      <td>900.0</td>\n",
       "      <td>269</td>\n",
       "      <td>1650487663</td>\n",
       "      <td>-18000</td>\n",
       "      <td>6.175430</td>\n",
       "      <td>HIGHLY_ACTIVE</td>\n",
       "      <td>5.397980</td>\n",
       "      <td>6.647376</td>\n",
       "    </tr>\n",
       "  </tbody>\n",
       "</table>\n",
       "</div>"
      ]
     },
     "execution_count": 2,
     "metadata": {},
     "output_type": "execute_result"
    }
   ],
   "execution_count": 2
  },
  {
   "metadata": {
    "ExecuteTime": {
     "end_time": "2024-06-01T12:18:00.173816Z",
     "start_time": "2024-06-01T12:17:59.970684Z"
    }
   },
   "cell_type": "code",
   "source": [
    "users = df['userId'].unique()\n",
    "print(f'num of users: {len(users)}')"
   ],
   "id": "44abd44f7b557abb",
   "outputs": [
    {
     "name": "stdout",
     "output_type": "stream",
     "text": [
      "num of users: 213\n"
     ]
    }
   ],
   "execution_count": 3
  },
  {
   "metadata": {
    "ExecuteTime": {
     "end_time": "2024-06-01T12:18:00.177153Z",
     "start_time": "2024-06-01T12:18:00.175091Z"
    }
   },
   "cell_type": "code",
   "source": "result_dict = {}",
   "id": "3fc7e2747e8ea7c6",
   "outputs": [],
   "execution_count": 4
  },
  {
   "metadata": {},
   "cell_type": "markdown",
   "source": "## Data Preprocessing ",
   "id": "c82fbff9fe23ee02"
  },
  {
   "metadata": {},
   "cell_type": "markdown",
   "source": "*startTimeOffsetInSeconds* is the offset in seconds to add to startTimeInSeconds to derive the \"local\" time of the device that captured the data, Garmin manual page 23. Because the measurements were taken in Israel, we expect the offsets to be +7200 (UTC +2) or +10800 (UTC +3) seconds. About 10 percent of the data had unusual offsets, which we decided to remove.",
   "id": "111c34e486a696fb"
  },
  {
   "metadata": {
    "ExecuteTime": {
     "end_time": "2024-06-01T12:18:03.910961Z",
     "start_time": "2024-06-01T12:18:03.452971Z"
    }
   },
   "cell_type": "code",
   "source": "df = df[df['startTimeOffsetInSeconds'].isin([7200, 10800])]",
   "id": "fbd784b6f8d91f45",
   "outputs": [],
   "execution_count": 5
  },
  {
   "metadata": {},
   "cell_type": "markdown",
   "source": "*startTimeInSeconds* is in unix format. we want to convert it to utc format, taking into account the offset to get the local time.",
   "id": "ee7ba175b505ecbf"
  },
  {
   "metadata": {
    "ExecuteTime": {
     "end_time": "2024-06-01T12:18:08.883096Z",
     "start_time": "2024-06-01T12:18:08.424867Z"
    }
   },
   "cell_type": "code",
   "source": [
    "df['startTimeLocal'] = pd.to_datetime(df['startTimeInSeconds'] + df['startTimeOffsetInSeconds'], unit='s')\n",
    "df = df.drop('startTimeInSeconds', axis=1)\n",
    "df = df.drop('startTimeOffsetInSeconds', axis=1)"
   ],
   "id": "4486d8254da88e3d",
   "outputs": [],
   "execution_count": 6
  },
  {
   "metadata": {},
   "cell_type": "markdown",
   "source": "add *WeekNumber* for each example",
   "id": "a7729e5e77e6efbc"
  },
  {
   "metadata": {
    "ExecuteTime": {
     "end_time": "2024-06-01T12:18:13.448035Z",
     "start_time": "2024-06-01T12:18:13.444381Z"
    }
   },
   "cell_type": "code",
   "source": [
    "# returns the week number (1,52) of the date.\n",
    "# assuming week starts on a sunday, and not a monday.\n",
    "def get_week_number(date):\n",
    "    adjusted_date = date - pd.Timedelta(days=(date.weekday() + 1) % 7) # date of closest, prev sunday\n",
    "    return adjusted_date.isocalendar()[1]"
   ],
   "id": "bf1e0631b4580e0c",
   "outputs": [],
   "execution_count": 7
  },
  {
   "metadata": {
    "ExecuteTime": {
     "end_time": "2024-06-01T12:18:28.539781Z",
     "start_time": "2024-06-01T12:18:14.290922Z"
    }
   },
   "cell_type": "code",
   "source": "df['WeekNumber'] = df['startTimeLocal'].apply(get_week_number)",
   "id": "bce45d3269adbb97",
   "outputs": [],
   "execution_count": 8
  },
  {
   "metadata": {},
   "cell_type": "markdown",
   "source": "## Extracting steps data ",
   "id": "616fa79d04987cad"
  },
  {
   "metadata": {},
   "cell_type": "markdown",
   "source": [
    "fill in result_dict:\n",
    "\n",
    "TODO: explain format"
   ],
   "id": "ea5eb8a31f140b6f"
  },
  {
   "metadata": {
    "ExecuteTime": {
     "end_time": "2024-06-01T12:19:53.559920Z",
     "start_time": "2024-06-01T12:19:53.556264Z"
    }
   },
   "cell_type": "code",
   "source": [
    "def highest_intensity(intensities):\n",
    "    intensity_order = ['SEDENTARY', 'ACTIVE', 'HIGHLY_ACTIVE']\n",
    "    return max(intensities, key=intensity_order.index)\n",
    "\n",
    "agg_dict = {\n",
    "    'steps': 'sum',\n",
    "    'userId': 'first',  \n",
    "    'intensity': highest_intensity, \n",
    "    'activeTimeInSeconds': 'sum', \n",
    "    'distanceInMeters': 'sum'\n",
    "}"
   ],
   "id": "2046ebf38d792252",
   "outputs": [],
   "execution_count": 9
  },
  {
   "metadata": {
    "ExecuteTime": {
     "end_time": "2024-06-01T12:20:15.458072Z",
     "start_time": "2024-06-01T12:19:53.931966Z"
    }
   },
   "cell_type": "code",
   "source": [
    "for user, user_df in df.groupby('userId'):\n",
    "    weekly_user_df = {}\n",
    "    for week_num, week_df in user_df.groupby('WeekNumber'):\n",
    "        weekly_user_df[week_num] = week_df.groupby('startTimeLocal').agg(agg_dict).reset_index()\n",
    "    result_dict[user] = weekly_user_df"
   ],
   "id": "44b1e29d8ee53a39",
   "outputs": [],
   "execution_count": 10
  },
  {
   "metadata": {},
   "cell_type": "markdown",
   "source": "save to a pickle",
   "id": "733eb4347681d6d1"
  },
  {
   "metadata": {
    "ExecuteTime": {
     "end_time": "2024-06-01T12:20:27.927153Z",
     "start_time": "2024-06-01T12:20:27.464626Z"
    }
   },
   "cell_type": "code",
   "source": [
    "pickle_file_path = 'steps.pkl'\n",
    "with open(pickle_file_path, 'wb') as file:\n",
    "    pickle.dump(result_dict, file)"
   ],
   "id": "7dacffc0ed5db2d3",
   "outputs": [],
   "execution_count": 11
  },
  {
   "metadata": {},
   "cell_type": "code",
   "outputs": [],
   "execution_count": null,
   "source": "",
   "id": "be318d65f08fc5f"
  }
 ],
 "metadata": {
  "kernelspec": {
   "display_name": "Python 3",
   "language": "python",
   "name": "python3"
  },
  "language_info": {
   "codemirror_mode": {
    "name": "ipython",
    "version": 2
   },
   "file_extension": ".py",
   "mimetype": "text/x-python",
   "name": "python",
   "nbconvert_exporter": "python",
   "pygments_lexer": "ipython2",
   "version": "2.7.6"
  }
 },
 "nbformat": 4,
 "nbformat_minor": 5
}
