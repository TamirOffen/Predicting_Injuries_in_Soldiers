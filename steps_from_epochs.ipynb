{
 "cells": [
  {
   "metadata": {},
   "cell_type": "markdown",
   "source": "# Get steps (and other features) from epochs.csv",
   "id": "23f85d4b011ea169"
  },
  {
   "metadata": {
    "ExecuteTime": {
     "end_time": "2024-06-11T14:42:37.308277Z",
     "start_time": "2024-06-11T14:42:35.123770Z"
    }
   },
   "cell_type": "code",
   "source": [
    "# imports\n",
    "import pandas as pd\n",
    "import pickle"
   ],
   "id": "39a4fc4b25f5b99e",
   "outputs": [],
   "execution_count": 1
  },
  {
   "metadata": {
    "ExecuteTime": {
     "end_time": "2024-06-11T14:42:44.672585Z",
     "start_time": "2024-06-11T14:42:40.161286Z"
    }
   },
   "cell_type": "code",
   "source": [
    "# load dataset\n",
    "df = pd.read_csv('data/epochs.csv')\n",
    "print(f'num of examples: {df.shape[0]}\\nnum of categories: {df.shape[1]}')\n",
    "df.head()"
   ],
   "id": "5c0d825f872775eb",
   "outputs": [
    {
     "name": "stdout",
     "output_type": "stream",
     "text": [
      "num of examples: 2119020\n",
      "num of categories: 15\n"
     ]
    },
    {
     "data": {
      "text/plain": [
       "                                 userId                       userAccessToken  \\\n",
       "0  e31d5fa7-7a63-43a6-973a-f2169c0661f7  69420bd2-052d-4df2-9ba1-55d9b2fd7489   \n",
       "1  e31d5fa7-7a63-43a6-973a-f2169c0661f7  69420bd2-052d-4df2-9ba1-55d9b2fd7489   \n",
       "2  e31d5fa7-7a63-43a6-973a-f2169c0661f7  69420bd2-052d-4df2-9ba1-55d9b2fd7489   \n",
       "3  e31d5fa7-7a63-43a6-973a-f2169c0661f7  69420bd2-052d-4df2-9ba1-55d9b2fd7489   \n",
       "4  e31d5fa7-7a63-43a6-973a-f2169c0661f7  69420bd2-052d-4df2-9ba1-55d9b2fd7489   \n",
       "\n",
       "              summaryId activityType  activeKilocalories  steps  \\\n",
       "0  sd46aeb3d-626066e3-6      WALKING                  93   1506   \n",
       "1  sd46aeb3d-62606a67-6      WALKING                   3   1174   \n",
       "2  sd46aeb3d-62606a67-8    SEDENTARY                   0      0   \n",
       "3  sd46aeb3d-62606deb-6      WALKING                  41   1363   \n",
       "4  sd46aeb3d-6260716f-6      WALKING                  73   1755   \n",
       "\n",
       "   distanceInMeters  durationInSeconds  activeTimeInSeconds  \\\n",
       "0            125.73              900.0                  860   \n",
       "1            207.00              900.0                  584   \n",
       "2              0.00              900.0                  143   \n",
       "3            222.45              900.0                  188   \n",
       "4            461.11              900.0                  269   \n",
       "\n",
       "   startTimeInSeconds  startTimeOffsetInSeconds        met      intensity  \\\n",
       "0          1650484963                    -18000  11.544035  HIGHLY_ACTIVE   \n",
       "1          1650485863                    -18000  42.362816  HIGHLY_ACTIVE   \n",
       "2          1650485863                    -18000   1.000000      SEDENTARY   \n",
       "3          1650486763                    -18000  44.880870  HIGHLY_ACTIVE   \n",
       "4          1650487663                    -18000   6.175430  HIGHLY_ACTIVE   \n",
       "\n",
       "   meanMotionIntensity  maxMotionIntensity  \n",
       "0             2.411726            4.152604  \n",
       "1             3.986872            5.518433  \n",
       "2             0.000000            0.000000  \n",
       "3             3.548326            3.323441  \n",
       "4             5.397980            6.647376  "
      ],
      "text/html": [
       "<div>\n",
       "<style scoped>\n",
       "    .dataframe tbody tr th:only-of-type {\n",
       "        vertical-align: middle;\n",
       "    }\n",
       "\n",
       "    .dataframe tbody tr th {\n",
       "        vertical-align: top;\n",
       "    }\n",
       "\n",
       "    .dataframe thead th {\n",
       "        text-align: right;\n",
       "    }\n",
       "</style>\n",
       "<table border=\"1\" class=\"dataframe\">\n",
       "  <thead>\n",
       "    <tr style=\"text-align: right;\">\n",
       "      <th></th>\n",
       "      <th>userId</th>\n",
       "      <th>userAccessToken</th>\n",
       "      <th>summaryId</th>\n",
       "      <th>activityType</th>\n",
       "      <th>activeKilocalories</th>\n",
       "      <th>steps</th>\n",
       "      <th>distanceInMeters</th>\n",
       "      <th>durationInSeconds</th>\n",
       "      <th>activeTimeInSeconds</th>\n",
       "      <th>startTimeInSeconds</th>\n",
       "      <th>startTimeOffsetInSeconds</th>\n",
       "      <th>met</th>\n",
       "      <th>intensity</th>\n",
       "      <th>meanMotionIntensity</th>\n",
       "      <th>maxMotionIntensity</th>\n",
       "    </tr>\n",
       "  </thead>\n",
       "  <tbody>\n",
       "    <tr>\n",
       "      <th>0</th>\n",
       "      <td>e31d5fa7-7a63-43a6-973a-f2169c0661f7</td>\n",
       "      <td>69420bd2-052d-4df2-9ba1-55d9b2fd7489</td>\n",
       "      <td>sd46aeb3d-626066e3-6</td>\n",
       "      <td>WALKING</td>\n",
       "      <td>93</td>\n",
       "      <td>1506</td>\n",
       "      <td>125.73</td>\n",
       "      <td>900.0</td>\n",
       "      <td>860</td>\n",
       "      <td>1650484963</td>\n",
       "      <td>-18000</td>\n",
       "      <td>11.544035</td>\n",
       "      <td>HIGHLY_ACTIVE</td>\n",
       "      <td>2.411726</td>\n",
       "      <td>4.152604</td>\n",
       "    </tr>\n",
       "    <tr>\n",
       "      <th>1</th>\n",
       "      <td>e31d5fa7-7a63-43a6-973a-f2169c0661f7</td>\n",
       "      <td>69420bd2-052d-4df2-9ba1-55d9b2fd7489</td>\n",
       "      <td>sd46aeb3d-62606a67-6</td>\n",
       "      <td>WALKING</td>\n",
       "      <td>3</td>\n",
       "      <td>1174</td>\n",
       "      <td>207.00</td>\n",
       "      <td>900.0</td>\n",
       "      <td>584</td>\n",
       "      <td>1650485863</td>\n",
       "      <td>-18000</td>\n",
       "      <td>42.362816</td>\n",
       "      <td>HIGHLY_ACTIVE</td>\n",
       "      <td>3.986872</td>\n",
       "      <td>5.518433</td>\n",
       "    </tr>\n",
       "    <tr>\n",
       "      <th>2</th>\n",
       "      <td>e31d5fa7-7a63-43a6-973a-f2169c0661f7</td>\n",
       "      <td>69420bd2-052d-4df2-9ba1-55d9b2fd7489</td>\n",
       "      <td>sd46aeb3d-62606a67-8</td>\n",
       "      <td>SEDENTARY</td>\n",
       "      <td>0</td>\n",
       "      <td>0</td>\n",
       "      <td>0.00</td>\n",
       "      <td>900.0</td>\n",
       "      <td>143</td>\n",
       "      <td>1650485863</td>\n",
       "      <td>-18000</td>\n",
       "      <td>1.000000</td>\n",
       "      <td>SEDENTARY</td>\n",
       "      <td>0.000000</td>\n",
       "      <td>0.000000</td>\n",
       "    </tr>\n",
       "    <tr>\n",
       "      <th>3</th>\n",
       "      <td>e31d5fa7-7a63-43a6-973a-f2169c0661f7</td>\n",
       "      <td>69420bd2-052d-4df2-9ba1-55d9b2fd7489</td>\n",
       "      <td>sd46aeb3d-62606deb-6</td>\n",
       "      <td>WALKING</td>\n",
       "      <td>41</td>\n",
       "      <td>1363</td>\n",
       "      <td>222.45</td>\n",
       "      <td>900.0</td>\n",
       "      <td>188</td>\n",
       "      <td>1650486763</td>\n",
       "      <td>-18000</td>\n",
       "      <td>44.880870</td>\n",
       "      <td>HIGHLY_ACTIVE</td>\n",
       "      <td>3.548326</td>\n",
       "      <td>3.323441</td>\n",
       "    </tr>\n",
       "    <tr>\n",
       "      <th>4</th>\n",
       "      <td>e31d5fa7-7a63-43a6-973a-f2169c0661f7</td>\n",
       "      <td>69420bd2-052d-4df2-9ba1-55d9b2fd7489</td>\n",
       "      <td>sd46aeb3d-6260716f-6</td>\n",
       "      <td>WALKING</td>\n",
       "      <td>73</td>\n",
       "      <td>1755</td>\n",
       "      <td>461.11</td>\n",
       "      <td>900.0</td>\n",
       "      <td>269</td>\n",
       "      <td>1650487663</td>\n",
       "      <td>-18000</td>\n",
       "      <td>6.175430</td>\n",
       "      <td>HIGHLY_ACTIVE</td>\n",
       "      <td>5.397980</td>\n",
       "      <td>6.647376</td>\n",
       "    </tr>\n",
       "  </tbody>\n",
       "</table>\n",
       "</div>"
      ]
     },
     "execution_count": 2,
     "metadata": {},
     "output_type": "execute_result"
    }
   ],
   "execution_count": 2
  },
  {
   "metadata": {
    "ExecuteTime": {
     "end_time": "2024-06-11T14:42:55.048179Z",
     "start_time": "2024-06-11T14:42:54.873550Z"
    }
   },
   "cell_type": "code",
   "source": [
    "users = df['userId'].unique()\n",
    "print(f'num of users: {len(users)}')"
   ],
   "id": "44abd44f7b557abb",
   "outputs": [
    {
     "name": "stdout",
     "output_type": "stream",
     "text": [
      "num of users: 213\n"
     ]
    }
   ],
   "execution_count": 3
  },
  {
   "metadata": {
    "ExecuteTime": {
     "end_time": "2024-06-11T15:48:16.920767Z",
     "start_time": "2024-06-11T15:48:16.875326Z"
    }
   },
   "cell_type": "code",
   "source": "users_weekly_epoch = {}",
   "id": "3fc7e2747e8ea7c6",
   "outputs": [],
   "execution_count": 37
  },
  {
   "metadata": {},
   "cell_type": "markdown",
   "source": "## Data Preprocessing ",
   "id": "c82fbff9fe23ee02"
  },
  {
   "metadata": {},
   "cell_type": "markdown",
   "source": "*startTimeOffsetInSeconds* is the offset in seconds to add to startTimeInSeconds to derive the \"local\" time of the device that captured the data, Garmin manual page 23. Because the measurements were taken in Israel, we expect the offsets to be +7200 (UTC +2) or +10800 (UTC +3) seconds. About 10 percent of the data had unusual offsets, which we decided to remove.",
   "id": "111c34e486a696fb"
  },
  {
   "metadata": {
    "ExecuteTime": {
     "end_time": "2024-06-11T14:43:00.811738Z",
     "start_time": "2024-06-11T14:43:00.429340Z"
    }
   },
   "cell_type": "code",
   "source": "df = df[df['startTimeOffsetInSeconds'].isin([7200, 10800])]",
   "id": "fbd784b6f8d91f45",
   "outputs": [],
   "execution_count": 5
  },
  {
   "metadata": {},
   "cell_type": "markdown",
   "source": "*startTimeInSeconds* is in unix format. we want to convert it to utc format, taking into account the offset to get the local time.",
   "id": "ee7ba175b505ecbf"
  },
  {
   "metadata": {
    "ExecuteTime": {
     "end_time": "2024-06-11T14:43:01.630520Z",
     "start_time": "2024-06-11T14:43:01.077762Z"
    }
   },
   "cell_type": "code",
   "source": [
    "df['startTimeLocal'] = pd.to_datetime(df['startTimeInSeconds'] + df['startTimeOffsetInSeconds'], unit='s')\n",
    "df = df.drop('startTimeInSeconds', axis=1)\n",
    "df = df.drop('startTimeOffsetInSeconds', axis=1)"
   ],
   "id": "4486d8254da88e3d",
   "outputs": [],
   "execution_count": 6
  },
  {
   "metadata": {},
   "cell_type": "markdown",
   "source": "add *WeekNumber* for each example",
   "id": "a7729e5e77e6efbc"
  },
  {
   "metadata": {
    "ExecuteTime": {
     "end_time": "2024-06-11T14:43:04.048024Z",
     "start_time": "2024-06-11T14:43:04.045040Z"
    }
   },
   "cell_type": "code",
   "source": [
    "# returns the week number (1,52) of the date.\n",
    "# assuming week starts on a sunday, and not a monday.\n",
    "def get_week_number(date):\n",
    "    adjusted_date = date - pd.Timedelta(days=(date.weekday() + 1) % 7) # date of closest, prev sunday\n",
    "    return adjusted_date.isocalendar()[1]"
   ],
   "id": "bf1e0631b4580e0c",
   "outputs": [],
   "execution_count": 7
  },
  {
   "metadata": {
    "ExecuteTime": {
     "end_time": "2024-06-11T14:43:18.450661Z",
     "start_time": "2024-06-11T14:43:04.221356Z"
    }
   },
   "cell_type": "code",
   "source": "df['WeekNumber'] = df['startTimeLocal'].apply(get_week_number)",
   "id": "bce45d3269adbb97",
   "outputs": [],
   "execution_count": 8
  },
  {
   "metadata": {},
   "cell_type": "markdown",
   "source": "## Extracting steps data ",
   "id": "616fa79d04987cad"
  },
  {
   "metadata": {},
   "cell_type": "markdown",
   "source": [
    "```python\n",
    "users_weekly_epoch = {\n",
    "    userID: {\n",
    "        week_number: pd.DataFrame(startTimeLocal, steps, userId, activeTimeInSeconds, distanceInMeters, speed, is_running)\n",
    "    }\n",
    "}"
   ],
   "id": "ea5eb8a31f140b6f"
  },
  {
   "metadata": {},
   "cell_type": "markdown",
   "source": [
    "| Level               | Description                                       |\n",
    "|---------------------|---------------------------------------------------|\n",
    "| `users_weekly_epoch`| The main dictionary containing all users' data.   |\n",
    "| `userID`            | A unique identifier for each soldier.                |\n",
    "| `week_number`       | A key within each `userID` dictionary representing a specific week. |\n",
    "| `pd.DataFrame`      | A dataframe filled with the relevant data for that user and week. Split by 15 min intervals.|\n",
    "\n",
    "Each dataframe contains the following data:\n",
    "\n",
    "- `startTimeLocal` - local time of user, example: 2022-08-28 19:15:00\n",
    "- `steps` - number of steps in the 15 minute interval \n",
    "- `userId` - soldier's ID\n",
    "- `activeTimeInSeconds` - number of seconds the user was active in the 15 minute interval. i.e. not sedentary\n",
    "- `distanceInMeters` - distance travelled by soldier in the 15 minute interval\n",
    "- `speed` - average speed of soldier in 15 minute interval in km/h, of when he was walking/running. \n",
    "- `is_running` - True if soldier was running (speed >= 7.5 km/h) in the 15 minute interval, False o.w."
   ],
   "id": "343603410fa67aed"
  },
  {
   "metadata": {
    "ExecuteTime": {
     "end_time": "2024-06-11T14:43:18.455170Z",
     "start_time": "2024-06-11T14:43:18.452307Z"
    }
   },
   "cell_type": "code",
   "source": [
    "agg_dict = {\n",
    "    'steps': 'sum',\n",
    "    'userId': 'first',  \n",
    "    'activeTimeInSeconds': 'sum', \n",
    "    'distanceInMeters': 'sum'\n",
    "}"
   ],
   "id": "2046ebf38d792252",
   "outputs": [],
   "execution_count": 9
  },
  {
   "metadata": {
    "ExecuteTime": {
     "end_time": "2024-06-11T15:57:46.717554Z",
     "start_time": "2024-06-11T15:57:31.825897Z"
    }
   },
   "cell_type": "code",
   "source": [
    "for user, user_df in df.groupby('userId'):\n",
    "    weekly_user_df = {}\n",
    "    for week_num, week_df in user_df.groupby('WeekNumber'):\n",
    "        weekly_df = week_df.groupby('startTimeLocal').agg(agg_dict).reset_index()\n",
    "        # speed:\n",
    "        filtered_df = week_df[week_df['activityType'].isin(['WALKING', 'RUNNING'])]\n",
    "        grouped_df = filtered_df.groupby('startTimeLocal').agg({'activeTimeInSeconds':'sum','distanceInMeters':'sum'}).reset_index()\n",
    "        grouped_df['speed'] = (grouped_df['distanceInMeters'] / grouped_df['activeTimeInSeconds']) * 3.6 # convert from m/s to km/h\n",
    "        weekly_df = weekly_df.merge(grouped_df[['startTimeLocal', 'speed']], on='startTimeLocal', how='left')\n",
    "        weekly_df['speed'] = weekly_df['speed'].fillna(0)\n",
    "        weekly_df['is_running'] = weekly_df['speed'] >= 7.5\n",
    "        \n",
    "        weekly_user_df[week_num] = weekly_df\n",
    "    \n",
    "    users_weekly_epoch[user] = weekly_user_df"
   ],
   "id": "20b9694f3708fc9f",
   "outputs": [],
   "execution_count": 52
  },
  {
   "metadata": {},
   "cell_type": "markdown",
   "source": "save to a pickle",
   "id": "733eb4347681d6d1"
  },
  {
   "metadata": {
    "ExecuteTime": {
     "end_time": "2024-06-11T16:24:10.778663Z",
     "start_time": "2024-06-11T16:24:10.467365Z"
    }
   },
   "cell_type": "code",
   "source": [
    "pickle_file_path = 'steps.pkl'\n",
    "with open(pickle_file_path, 'wb') as file:\n",
    "    pickle.dump(users_weekly_epoch, file)"
   ],
   "id": "7dacffc0ed5db2d3",
   "outputs": [],
   "execution_count": 54
  },
  {
   "metadata": {},
   "cell_type": "code",
   "outputs": [],
   "execution_count": null,
   "source": "",
   "id": "4307266c3145ab81"
  },
  {
   "metadata": {
    "ExecuteTime": {
     "end_time": "2024-06-11T15:41:39.112311Z",
     "start_time": "2024-06-11T15:41:39.109233Z"
    }
   },
   "cell_type": "code",
   "source": "og_user = '00a7a796-c572-44d7-a950-7f6bca4a4394'",
   "id": "be318d65f08fc5f",
   "outputs": [],
   "execution_count": 20
  },
  {
   "metadata": {
    "ExecuteTime": {
     "end_time": "2024-06-11T15:41:40.447434Z",
     "start_time": "2024-06-11T15:41:40.442791Z"
    }
   },
   "cell_type": "code",
   "source": [
    "# TODO: delete\n",
    "users_weekly_epoch.keys()"
   ],
   "id": "ff9e756c95a549d7",
   "outputs": [
    {
     "data": {
      "text/plain": [
       "dict_keys(['00a7a796-c572-44d7-a950-7f6bca4a4394', '02a9bd9f-430e-4351-b1e7-9ae10b9413a3', '03406515-0b5e-4a5a-9ff1-a85c06513e60', '042e1305-faa2-4eb8-a833-d2181efdeb31', '050b5881-43e2-44c8-8964-148576d30359', '0793ab56-25e1-4b0b-9a9b-be573b682523', '091855dd-6b30-4e37-818d-6341a853d026', '091b0864-139b-41ce-b365-11831889a3c7', '0c80b148-0d19-4a71-9309-b86f1ab9f3ce', '0d31cc9d-31ea-4473-b513-3f477a73e708', '0e79fdf3-6791-4c56-88ce-fe56f722a99e', '0f777005-330d-4d68-8960-9fe8f0501e3d', '0fa9bebd-47a8-4979-9ae4-54f8288dc150', '0fc41759-3017-42f4-b784-69f90f913954', '102d37b9-87fa-40cc-92ff-c88b9d7b2311', '1256e510-9559-47ff-8389-f76287ae974e', '1667c01c-6bf8-4983-b946-d174ae40e539', '16dfee60-03fa-4d81-982a-1ebaf812b3c5', '176d1f17-4353-4eb6-9543-6a645ff5bfd1', '184a8b74-e4ef-4f13-8759-c6fef09a5888', '1c4310c0-a707-4565-abba-cc948d0dd3e0', '207af7e1-9b5b-4296-a7fa-96b6d7f56339', '21b2fcc0-43aa-4160-9db3-2d57970266ec', '27ec307b-918c-4c9b-a3fa-157941b816f1', '29f6135a-5e81-4cde-92d6-4cfe5ad63547', '2be17b8e-7f5e-4ef6-8b39-b3c9b2a526c5', '2dd630ec-b5e6-4583-a734-61e43c343bf2', '2e80e025-7861-4ae7-b15a-f5d842acf187', '2f9be8d6-971e-4170-8a2c-4a53bd635f9f', '307267de-8ea3-4a7d-bc7f-5ae71f38e5e6', '30a2af48-516c-4575-8588-e145f6b2bc42', '324975b4-8ed4-47b1-bc3f-1d5db336de3b', '32d2b483-74ee-494d-a401-fc260ff14fb2', '375168d2-14fd-476e-94a6-711112a09692', '37da8a41-a92f-41d9-b021-31bc732d0560', '38f79cf0-ab9f-4960-84e4-91de47814ac9', '3a8aafe3-9c2d-4f8f-988f-7864de7587a2', '3b48eaad-18b3-4446-8a5c-3228b51809a0', '3bddba65-0c32-4c9a-b5db-0aee12845410', '3ef306c8-6a99-48e1-8890-3099b2be8461', '40dd2621-3a64-415a-8c4f-dc4b03d06394', '412d3cf2-9706-4243-a54e-c88cd2cea557', '412ecc46-0574-4eca-9eb1-47cd0c419939', '438ca0b4-3b0b-4fe2-ae13-f6d5c527d992', '447e5061-4978-4e1d-a0c3-f720654d0922', '47d4b13b-5888-48a9-a69a-cc083272f62a', '4987a7c2-2eb2-4a5f-87e9-ad84826acfe4', '49c9cfc0-cfcf-4126-b75d-0e609819bf4c', '4a33a69a-93c0-412c-8fdc-ca1d8d1a6cce', '4a90c1df-2eea-4baa-9fd9-c4abdfa1e132', '4e990287-6f0e-4ec9-bdd7-28f45d42deb0', '4ffffca7-1a99-4548-b3eb-4efdb8066696', '51a4843b-df38-4bb8-834c-117c4cae00ba', '52a50b5d-96c0-444c-bff9-dd3bc6fdc82b', '54f411e6-a9ae-4e48-94eb-1cefe8a2c99e', '55d62e7a-6839-4d84-ae79-5d91f17cb558', '58b9e7f7-479f-49cc-ba73-615b7a4bb36c', '594940b8-35d0-4ae7-8d72-51bf33c523d2', '595e2649-99b2-4b4b-868f-5665605c1105', '59959ad0-e6fc-43b1-a778-1f535041bdf5', '5a0f9aef-acdb-4deb-a944-f962f0343057', '5a17d0dc-b900-4559-b3f6-4c68c086e118', '5afaf352-47e1-4555-8433-53a1fa41fbe7', '5d493326-6f09-4a21-b5b8-9b933c10bfc8', '5f4fc64e-7629-42bd-bd40-629febd5d442', '5feba7d2-a31d-43e6-878f-4a069359a648', '608ac240-37ac-40df-83df-8c3fa10fd604', '60f08b52-c604-42f0-9a38-f800e8fd7474', '639de43c-37b1-47d6-9de4-1ceb21ad0c18', '6430aae9-1a0c-49d9-a4a9-c36477685719', '676f5b66-f801-4cb9-a2d6-ba65dc9c64ff', '68e357b5-220d-4f63-9aec-d46e58e23fe2', '6e0a1287-5e67-4f66-8fe8-f2e47c30ce0e', '6ea99021-ed62-4ef0-8d94-bc9faaf63e6d', '6f3d6b0b-445c-441c-b25d-1bd374fea284', '71e99ec9-0d10-41e4-94ff-748e1eef7f04', '72764cb1-c5b1-4bf5-9f6f-35af646a0ebf', '73f9339e-a86e-49a5-915e-78ef21595622', '749f34a9-adcc-4cda-9bcf-f224fa8bc495', '74a8a258-1de5-4ff0-a85c-bc48437b9986', '75a0b1cb-e576-4c3e-88f8-618a35e4075b', '75fa8cca-63bc-4988-ae87-e7957b00d760', '7631f671-d34d-40b5-9f70-2f6be581b1f4', '7654dc37-61d0-4c0b-b89b-b09e765a9d8b', '773c85eb-6b1d-4dab-b91e-2d6bf171d3ec', '79a21277-43d9-422e-b253-fbc9657c1279', '7ab36a22-9c86-4a48-bb7f-a4d0abfa476c', '7c2e7406-6565-4a62-9c89-fdbba56286fa', '7e2d4980-7b25-4cfb-804f-374c6436e2aa', '7f8b83fa-6516-4cc5-89dc-3565a595fdee', '801ef82d-404f-4d8f-b079-4121b33d3b06', '81aafca1-5572-41be-991c-d873cb72c53a', '8256c5ec-02d5-4bb7-af83-e6a0ebed1075', '853a79e9-a09b-4b8e-863b-772f2ca74ad4', '8562463c-8a7e-4b2d-994d-420e35e680cc', '869ae723-86c2-4fea-807f-7e38a9a9a543', '89500420-9c50-4058-9f48-0fcf5e289130', '8cdd25b4-89a5-4d95-83ae-bfb2fa99274d', '8d0088ed-4a14-417e-8b90-080b6efab03d', '8e93aea1-e820-45df-8404-471e398210fd', '932049cc-304b-45a6-872d-7b5f0376dac0', '936c4c04-a370-49bd-8e1f-6e8ded49d7bf', '93d500db-54e6-49b7-bad3-f5cc33fc5bed', '95119d8b-c62b-4980-a378-cb7b003341d8', '95a151b8-3cd9-4f62-8493-9e95b35a6d59', '97f20b44-f83c-4f02-977c-0fb3805b2123', '9837fc08-55e3-4fc6-ae7f-a76ee697d0f0', '9860e8f3-900f-417f-bea3-5b1894627dd6', '989fbaef-b9eb-4433-8b9a-0be6a3e0e415', '9d0c5527-6eee-4873-9803-517091d92d2b', '9e06c7b8-9a62-4118-8720-a368e15b68da', '9e2e73e0-4b84-4de5-90cf-94ade90d091b', '9ef3cd49-f374-4363-8303-8633b0b44786', 'a1486235-e324-41cc-8e8e-e437094243a1', 'a16493a4-6566-4d2a-952e-56abe468400e', 'a18cfc72-ca77-43bb-9c86-f43470493043', 'a1ec3bf7-89f0-418e-94f8-79526c1eb57e', 'a20ca782-acca-4797-8988-d3b58a1ff548', 'a21f359f-acc1-43f4-8287-e535af9f34ca', 'a4064a77-14b2-4282-aca1-9152d49d74a3', 'a6b0ecff-d870-49e7-b6a0-5f45932fd123', 'a73356ed-9ea6-447c-bdb1-7bf73a094e89', 'a79b1990-ea66-4013-92c7-f1ea9cf8bd9a', 'a8682636-1313-4e09-b424-c2dd0497516d', 'a8dea103-16c0-49be-873d-5c2c21758164', 'ab4258ec-1c9f-4a7a-80ca-edebcb385c74', 'aef28312-2848-4ade-b63a-7157328369a2', 'b0aa71b1-e8b8-42ba-b09b-f00dbd686c64', 'b1718e92-7edf-4432-81d1-262e9bc29930', 'b1b0ebde-55b8-4e02-95c3-68fc3a1f1299', 'b1f802a7-b049-47db-8bd9-21d77cfbbd69', 'b1f9d467-8f8a-47e5-820d-5924fb4f5d0f', 'b2b411ce-d2ed-44d4-b2fa-811fb53f6909', 'b3d1a307-a45d-407b-9dca-fe9abb91c4a1', 'b47bda4a-4aac-431f-aa8b-f18dfb3ab0f4', 'b49795a3-5fe2-4233-b27c-fe02363e04a1', 'b7aef727-3618-4f2b-b6fc-1463e252b25a', 'b810cc55-65f1-45fa-94fe-e28b8066cd01', 'b9a3b569-5834-42ef-b910-b54816503fe8', 'ba693316-9178-495e-9529-1e46502ee7cd', 'ba6e4cf9-b8f2-49a1-890e-5093d32a456e', 'bae47690-7f64-48df-b681-1667bfbeb90e', 'bb7c9179-cfca-42de-8112-6244135aba15', 'bfd22a83-c6ea-4815-be2a-9ebdad152433', 'c062c143-35bd-48e8-a711-12b2909230f0', 'c0daa261-d275-4c0c-8188-0ad4c11a7c85', 'c38639b6-1589-4d3d-85fc-6e6f0e276f6a', 'c604997d-e469-4010-bc35-3374dcce45e2', 'c6c1a3de-bee0-40b1-bcf2-4d9717092551', 'ca3b07ee-6cbb-4e0c-a18a-4e017e8da9a7', 'ccbfa964-c720-48c3-ab0a-48681d323d6d', 'cd397d14-81d8-4e6a-a4c9-3d2a2f0f5232', 'cd40a385-059e-4dda-94e5-39547d2d525a', 'cd54b1a8-e7ab-46e7-b281-923ab70e3e00', 'd2bc85ee-b5ec-48ef-a4f1-8f15d09a8d61', 'd321faad-c594-4e7d-9067-8c1853a01a90', 'd3c7b36f-3018-4a84-b131-fff7ca73b4fe', 'd3e8ec4d-4f2b-4d66-9d75-d6dc12e5bf81', 'd40ab995-805b-4753-a33d-1aa9e3b8984c', 'd515cf5f-88d3-4a09-8ed5-9243c59acbf0', 'd5676beb-30c0-4d0a-b795-b21a3fd2814b', 'd753ff3c-cf97-4bad-9f68-ab54697c4e4b', 'd79bb85b-65a4-4dbb-9108-4e774e5fe9b4', 'd7fb443e-8a8e-41c9-8cdc-45daebdc3aec', 'd8cc8a8e-7b4d-4150-a74e-d21b1914910b', 'd8dde847-b55a-4a8b-97a3-db7f53a07ec9', 'da950dfd-bc5a-4825-97f2-d7f7f9960ea5', 'dd0367a4-3e35-489c-b0e2-72a75eae9a55', 'dd5447c4-182b-496a-a004-f8c941a91b97', 'df6ec2af-e3c1-4285-bae7-d76cde2f6aa8', 'df84cf7c-3b35-483a-9aeb-f0787399fe89', 'e33a6203-58c5-4707-a736-09c4ecaf2ff2', 'e3baf081-a4a3-4831-b7d2-d59e5f567889', 'e5acd1e9-cd8d-4d4d-a071-c4425e53f55c', 'e5e5a8e8-cc7b-4511-996d-91b93d6d59a7', 'e6476681-5e9e-4f35-9d9b-efdd8e6b00e1', 'e6b6158d-260d-45e5-af84-57950d19b74e', 'e6c5dbc2-a658-47cf-99b5-4fbaf7f04d38', 'e888de5f-7c99-40c4-9f74-28f2996b4d58', 'e8f24f65-b1c3-4037-b67a-475d4586b46d', 'e91b498d-3a7b-474a-bffd-48b58a85d4bb', 'ea5fbc0d-eccc-4b04-aca2-a8fa79435f38', 'ea798a18-3114-463b-bf5f-c570da6d2f0f', 'ee9b6596-8e39-4734-8568-63e2b9f1b518', 'f0f54df9-a7ca-42e1-ac9c-5df5d88a8c30', 'f1068f9a-3ec5-4b11-b69c-acbc957c4442', 'f114e474-5019-43c1-9083-01d8838a6856', 'f17d50cf-7ec7-44cd-b58b-9d84f6a549ad', 'f37c2eab-674a-427d-899b-e930c1de426b', 'f5306e0a-2fda-4e35-a37a-b70fcfde4de1', 'f5963088-1196-46b7-a989-5378c8b39b78', 'f632a012-15a0-4bc3-a22f-0e25dbe1ea11', 'f70f3390-c2bb-45a3-945c-b03826f78290', 'f8eff652-d385-44e3-a2df-38eb17d73c25', 'f953e401-c6d4-4e06-aac7-e46e2dcee1bb', 'facdd015-3ab6-4dca-8c12-4fc3c008679e', 'fbfa150b-4c62-412d-9e84-ef06e8495fc5', 'fc5c45d9-61f0-4c7d-a56d-631e95160067', 'fd486705-4873-4001-95f5-6f5bbf0d620f', 'fd949638-b68e-4e68-b660-f31133ed2a19', 'fed875d9-280a-4321-8a39-0c2ac854536f', 'ff079105-ac2c-44ff-a04a-916f8a0de0f8', 'ff28a7f9-ebf2-43de-a8fb-5cc213ec5dea'])"
      ]
     },
     "execution_count": 21,
     "metadata": {},
     "output_type": "execute_result"
    }
   ],
   "execution_count": 21
  },
  {
   "metadata": {
    "ExecuteTime": {
     "end_time": "2024-06-11T15:57:47.228447Z",
     "start_time": "2024-06-11T15:57:46.719209Z"
    }
   },
   "cell_type": "code",
   "source": [
    "num_of_running = 0\n",
    "num_of_walking = 0\n",
    "\n",
    "for user in users_weekly_epoch.keys():\n",
    "    d = users_weekly_epoch[user]\n",
    "    for week in d.keys():\n",
    "        w_df = d[week]\n",
    "        running_count = w_df['is_running'].sum()\n",
    "        walking_count = len(w_df) - running_count\n",
    "        num_of_running += running_count\n",
    "        num_of_walking += walking_count\n",
    "\n",
    "print(\"num of walking entries:\",num_of_walking)\n",
    "print(\"num of running entries:\", num_of_running)\n"
   ],
   "id": "e27a6296ba049732",
   "outputs": [
    {
     "name": "stdout",
     "output_type": "stream",
     "text": [
      "num of walking entries: 1362995\n",
      "num of running entries: 4263\n"
     ]
    }
   ],
   "execution_count": 53
  },
  {
   "metadata": {
    "ExecuteTime": {
     "end_time": "2024-06-11T14:44:19.228372Z",
     "start_time": "2024-06-11T14:44:19.223676Z"
    }
   },
   "cell_type": "code",
   "source": "users_weekly_epoch[og_user].keys()",
   "id": "9b4d972aabd587e3",
   "outputs": [
    {
     "data": {
      "text/plain": [
       "dict_keys([4, 5, 35, 36, 45, 50, 51])"
      ]
     },
     "execution_count": 13,
     "metadata": {},
     "output_type": "execute_result"
    }
   ],
   "execution_count": 13
  },
  {
   "metadata": {
    "ExecuteTime": {
     "end_time": "2024-06-11T15:48:44.236320Z",
     "start_time": "2024-06-11T15:48:44.224819Z"
    }
   },
   "cell_type": "code",
   "source": [
    "test_df = users_weekly_epoch[og_user][35]\n",
    "test_df"
   ],
   "id": "7c462588e7381517",
   "outputs": [
    {
     "data": {
      "text/plain": [
       "         startTimeLocal  steps                                userId  \\\n",
       "0   2022-09-04 09:15:00     49  00a7a796-c572-44d7-a950-7f6bca4a4394   \n",
       "1   2022-09-04 09:30:00    103  00a7a796-c572-44d7-a950-7f6bca4a4394   \n",
       "2   2022-09-04 09:45:00     29  00a7a796-c572-44d7-a950-7f6bca4a4394   \n",
       "3   2022-09-04 10:00:00    172  00a7a796-c572-44d7-a950-7f6bca4a4394   \n",
       "4   2022-09-04 10:15:00    169  00a7a796-c572-44d7-a950-7f6bca4a4394   \n",
       "..                  ...    ...                                   ...   \n",
       "264 2022-09-07 03:15:00      0  00a7a796-c572-44d7-a950-7f6bca4a4394   \n",
       "265 2022-09-07 03:30:00      0  00a7a796-c572-44d7-a950-7f6bca4a4394   \n",
       "266 2022-09-07 03:45:00      0  00a7a796-c572-44d7-a950-7f6bca4a4394   \n",
       "267 2022-09-07 04:00:00     64  00a7a796-c572-44d7-a950-7f6bca4a4394   \n",
       "268 2022-09-07 04:15:00      0  00a7a796-c572-44d7-a950-7f6bca4a4394   \n",
       "\n",
       "     activeTimeInSeconds  distanceInMeters     speed  is_running  \n",
       "0                    600             40.79  1.147219       False  \n",
       "1                    900             85.76  1.715200       False  \n",
       "2                    900             24.15  1.449000       False  \n",
       "3                    900            259.72  3.087240       False  \n",
       "4                    900            203.43  1.743000       False  \n",
       "..                   ...               ...       ...         ...  \n",
       "264                  900              0.00  0.000000       False  \n",
       "265                  900              0.00  0.000000       False  \n",
       "266                  900              0.00  0.000000       False  \n",
       "267                  900             53.29  1.065800       False  \n",
       "268                  300              0.00  0.000000       False  \n",
       "\n",
       "[269 rows x 7 columns]"
      ],
      "text/html": [
       "<div>\n",
       "<style scoped>\n",
       "    .dataframe tbody tr th:only-of-type {\n",
       "        vertical-align: middle;\n",
       "    }\n",
       "\n",
       "    .dataframe tbody tr th {\n",
       "        vertical-align: top;\n",
       "    }\n",
       "\n",
       "    .dataframe thead th {\n",
       "        text-align: right;\n",
       "    }\n",
       "</style>\n",
       "<table border=\"1\" class=\"dataframe\">\n",
       "  <thead>\n",
       "    <tr style=\"text-align: right;\">\n",
       "      <th></th>\n",
       "      <th>startTimeLocal</th>\n",
       "      <th>steps</th>\n",
       "      <th>userId</th>\n",
       "      <th>activeTimeInSeconds</th>\n",
       "      <th>distanceInMeters</th>\n",
       "      <th>speed</th>\n",
       "      <th>is_running</th>\n",
       "    </tr>\n",
       "  </thead>\n",
       "  <tbody>\n",
       "    <tr>\n",
       "      <th>0</th>\n",
       "      <td>2022-09-04 09:15:00</td>\n",
       "      <td>49</td>\n",
       "      <td>00a7a796-c572-44d7-a950-7f6bca4a4394</td>\n",
       "      <td>600</td>\n",
       "      <td>40.79</td>\n",
       "      <td>1.147219</td>\n",
       "      <td>False</td>\n",
       "    </tr>\n",
       "    <tr>\n",
       "      <th>1</th>\n",
       "      <td>2022-09-04 09:30:00</td>\n",
       "      <td>103</td>\n",
       "      <td>00a7a796-c572-44d7-a950-7f6bca4a4394</td>\n",
       "      <td>900</td>\n",
       "      <td>85.76</td>\n",
       "      <td>1.715200</td>\n",
       "      <td>False</td>\n",
       "    </tr>\n",
       "    <tr>\n",
       "      <th>2</th>\n",
       "      <td>2022-09-04 09:45:00</td>\n",
       "      <td>29</td>\n",
       "      <td>00a7a796-c572-44d7-a950-7f6bca4a4394</td>\n",
       "      <td>900</td>\n",
       "      <td>24.15</td>\n",
       "      <td>1.449000</td>\n",
       "      <td>False</td>\n",
       "    </tr>\n",
       "    <tr>\n",
       "      <th>3</th>\n",
       "      <td>2022-09-04 10:00:00</td>\n",
       "      <td>172</td>\n",
       "      <td>00a7a796-c572-44d7-a950-7f6bca4a4394</td>\n",
       "      <td>900</td>\n",
       "      <td>259.72</td>\n",
       "      <td>3.087240</td>\n",
       "      <td>False</td>\n",
       "    </tr>\n",
       "    <tr>\n",
       "      <th>4</th>\n",
       "      <td>2022-09-04 10:15:00</td>\n",
       "      <td>169</td>\n",
       "      <td>00a7a796-c572-44d7-a950-7f6bca4a4394</td>\n",
       "      <td>900</td>\n",
       "      <td>203.43</td>\n",
       "      <td>1.743000</td>\n",
       "      <td>False</td>\n",
       "    </tr>\n",
       "    <tr>\n",
       "      <th>...</th>\n",
       "      <td>...</td>\n",
       "      <td>...</td>\n",
       "      <td>...</td>\n",
       "      <td>...</td>\n",
       "      <td>...</td>\n",
       "      <td>...</td>\n",
       "      <td>...</td>\n",
       "    </tr>\n",
       "    <tr>\n",
       "      <th>264</th>\n",
       "      <td>2022-09-07 03:15:00</td>\n",
       "      <td>0</td>\n",
       "      <td>00a7a796-c572-44d7-a950-7f6bca4a4394</td>\n",
       "      <td>900</td>\n",
       "      <td>0.00</td>\n",
       "      <td>0.000000</td>\n",
       "      <td>False</td>\n",
       "    </tr>\n",
       "    <tr>\n",
       "      <th>265</th>\n",
       "      <td>2022-09-07 03:30:00</td>\n",
       "      <td>0</td>\n",
       "      <td>00a7a796-c572-44d7-a950-7f6bca4a4394</td>\n",
       "      <td>900</td>\n",
       "      <td>0.00</td>\n",
       "      <td>0.000000</td>\n",
       "      <td>False</td>\n",
       "    </tr>\n",
       "    <tr>\n",
       "      <th>266</th>\n",
       "      <td>2022-09-07 03:45:00</td>\n",
       "      <td>0</td>\n",
       "      <td>00a7a796-c572-44d7-a950-7f6bca4a4394</td>\n",
       "      <td>900</td>\n",
       "      <td>0.00</td>\n",
       "      <td>0.000000</td>\n",
       "      <td>False</td>\n",
       "    </tr>\n",
       "    <tr>\n",
       "      <th>267</th>\n",
       "      <td>2022-09-07 04:00:00</td>\n",
       "      <td>64</td>\n",
       "      <td>00a7a796-c572-44d7-a950-7f6bca4a4394</td>\n",
       "      <td>900</td>\n",
       "      <td>53.29</td>\n",
       "      <td>1.065800</td>\n",
       "      <td>False</td>\n",
       "    </tr>\n",
       "    <tr>\n",
       "      <th>268</th>\n",
       "      <td>2022-09-07 04:15:00</td>\n",
       "      <td>0</td>\n",
       "      <td>00a7a796-c572-44d7-a950-7f6bca4a4394</td>\n",
       "      <td>300</td>\n",
       "      <td>0.00</td>\n",
       "      <td>0.000000</td>\n",
       "      <td>False</td>\n",
       "    </tr>\n",
       "  </tbody>\n",
       "</table>\n",
       "<p>269 rows × 7 columns</p>\n",
       "</div>"
      ]
     },
     "execution_count": 40,
     "metadata": {},
     "output_type": "execute_result"
    }
   ],
   "execution_count": 40
  },
  {
   "metadata": {
    "ExecuteTime": {
     "end_time": "2024-06-11T15:49:25.298536Z",
     "start_time": "2024-06-11T15:49:25.292060Z"
    }
   },
   "cell_type": "code",
   "source": [
    "above_threshold = test_df[test_df['speed'] > 5]\n",
    "above_threshold"
   ],
   "id": "1415135aa7aae431",
   "outputs": [
    {
     "data": {
      "text/plain": [
       "Empty DataFrame\n",
       "Columns: [startTimeLocal, steps, userId, activeTimeInSeconds, distanceInMeters, speed, is_running]\n",
       "Index: []"
      ],
      "text/html": [
       "<div>\n",
       "<style scoped>\n",
       "    .dataframe tbody tr th:only-of-type {\n",
       "        vertical-align: middle;\n",
       "    }\n",
       "\n",
       "    .dataframe tbody tr th {\n",
       "        vertical-align: top;\n",
       "    }\n",
       "\n",
       "    .dataframe thead th {\n",
       "        text-align: right;\n",
       "    }\n",
       "</style>\n",
       "<table border=\"1\" class=\"dataframe\">\n",
       "  <thead>\n",
       "    <tr style=\"text-align: right;\">\n",
       "      <th></th>\n",
       "      <th>startTimeLocal</th>\n",
       "      <th>steps</th>\n",
       "      <th>userId</th>\n",
       "      <th>activeTimeInSeconds</th>\n",
       "      <th>distanceInMeters</th>\n",
       "      <th>speed</th>\n",
       "      <th>is_running</th>\n",
       "    </tr>\n",
       "  </thead>\n",
       "  <tbody>\n",
       "  </tbody>\n",
       "</table>\n",
       "</div>"
      ]
     },
     "execution_count": 45,
     "metadata": {},
     "output_type": "execute_result"
    }
   ],
   "execution_count": 45
  },
  {
   "metadata": {
    "ExecuteTime": {
     "end_time": "2024-06-11T15:49:30.196308Z",
     "start_time": "2024-06-11T15:49:29.550452Z"
    }
   },
   "cell_type": "code",
   "source": [
    "import matplotlib.pyplot as plt\n",
    "plt.figure(figsize=(10, 6))\n",
    "plt.hist(test_df['speed'], bins=100, color='skyblue', edgecolor='black')\n",
    "plt.title('Spread of startTimeOffsetInSeconds')\n",
    "plt.xlabel('startTimeOffsetInSeconds')\n",
    "plt.ylabel('Frequency')\n",
    "plt.xticks(rotation=45)\n",
    "plt.grid(True)\n",
    "plt.show()"
   ],
   "id": "9f9f94b5743b434e",
   "outputs": [
    {
     "data": {
      "text/plain": [
       "<Figure size 1000x600 with 1 Axes>"
      ],
      "image/png": "[encoded data removed]"
     },
     "metadata": {},
     "output_type": "display_data"
    }
   ],
   "execution_count": 46
  },
  {
   "metadata": {
    "ExecuteTime": {
     "end_time": "2024-06-08T12:16:40.531560Z",
     "start_time": "2024-06-08T12:16:40.526551Z"
    }
   },
   "cell_type": "code",
   "source": "test_df.columns",
   "id": "22c8f21327974a54",
   "outputs": [
    {
     "data": {
      "text/plain": [
       "Index(['startTimeLocal', 'steps', 'userId', 'activeTimeInSeconds',\n",
       "       'distanceInMeters', 'speed'],\n",
       "      dtype='object')"
      ]
     },
     "execution_count": 43,
     "metadata": {},
     "output_type": "execute_result"
    }
   ],
   "execution_count": 43
  },
  {
   "metadata": {},
   "cell_type": "code",
   "outputs": [],
   "execution_count": null,
   "source": "",
   "id": "b5a151162364f414"
  }
 ],
 "metadata": {
  "kernelspec": {
   "display_name": "Python 3",
   "language": "python",
   "name": "python3"
  },
  "language_info": {
   "codemirror_mode": {
    "name": "ipython",
    "version": 2
   },
   "file_extension": ".py",
   "mimetype": "text/x-python",
   "name": "python",
   "nbconvert_exporter": "python",
   "pygments_lexer": "ipython2",
   "version": "2.7.6"
  }
 },
 "nbformat": 4,
 "nbformat_minor": 5
}
