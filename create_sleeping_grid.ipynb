{
 "cells": [
  {
   "metadata": {},
   "cell_type": "markdown",
   "source": "# Sleep Grid",
   "id": "b4e556ac60b7bdf3"
  },
  {
   "metadata": {
    "ExecuteTime": {
     "end_time": "2024-06-30T19:43:28.412785Z",
     "start_time": "2024-06-30T19:43:28.381927Z"
    }
   },
   "cell_type": "code",
   "source": [
    "%load_ext autoreload\n",
    "%autoreload 2"
   ],
   "id": "d583bc9df2e0e9e8",
   "outputs": [],
   "execution_count": 1
  },
  {
   "cell_type": "code",
   "id": "initial_id",
   "metadata": {
    "collapsed": true,
    "ExecuteTime": {
     "end_time": "2024-06-30T19:43:31.347510Z",
     "start_time": "2024-06-30T19:43:28.420272Z"
    }
   },
   "source": [
    "import pandas as pd\n",
    "import pickle\n",
    "import numpy as np"
   ],
   "outputs": [],
   "execution_count": 2
  },
  {
   "metadata": {},
   "cell_type": "markdown",
   "source": "## Load Datasets",
   "id": "9f5d1d694094051c"
  },
  {
   "metadata": {
    "ExecuteTime": {
     "end_time": "2024-06-30T19:43:31.590278Z",
     "start_time": "2024-06-30T19:43:31.349856Z"
    }
   },
   "cell_type": "code",
   "source": [
    "df_awake = pd.read_csv('data/awake_sleep.csv')\n",
    "df_light = pd.read_csv('data/light_sleep.csv')\n",
    "df_deep = pd.read_csv('data/deep_sleep.csv')\n",
    "df_deep.columns"
   ],
   "id": "a7ab5ab979295adb",
   "outputs": [
    {
     "data": {
      "text/plain": [
       "Index(['userId', 'summaryId', 'startTimeInSeconds', 'endTimeInSeconds'], dtype='object')"
      ]
     },
     "execution_count": 3,
     "metadata": {},
     "output_type": "execute_result"
    }
   ],
   "execution_count": 3
  },
  {
   "metadata": {},
   "cell_type": "markdown",
   "source": "## Data Preprocessing",
   "id": "566f25325dc6c597"
  },
  {
   "metadata": {
    "ExecuteTime": {
     "end_time": "2024-06-30T19:43:31.623666Z",
     "start_time": "2024-06-30T19:43:31.591756Z"
    }
   },
   "cell_type": "code",
   "source": [
    "# add total seconds to each df\n",
    "df_deep['totalSeconds'] = df_deep['endTimeInSeconds'] - df_deep['startTimeInSeconds']\n",
    "df_light['totalSeconds'] = df_light['endTimeInSeconds'] - df_light['startTimeInSeconds']\n",
    "df_awake['totalSeconds'] = df_awake['endTimeInSeconds'] - df_awake['startTimeInSeconds']"
   ],
   "id": "c187dafe7bb4a6e0",
   "outputs": [],
   "execution_count": 4
  },
  {
   "metadata": {
    "ExecuteTime": {
     "end_time": "2024-06-30T19:43:31.673283Z",
     "start_time": "2024-06-30T19:43:31.627093Z"
    }
   },
   "cell_type": "code",
   "source": [
    "# convert startTimeInSeconds to a date + time\n",
    "df_deep['startTimeDate'] = pd.to_datetime(df_deep['startTimeInSeconds'], unit='s')\n",
    "df_light['startTimeDate'] = pd.to_datetime(df_light['startTimeInSeconds'], unit='s')\n",
    "df_awake['startTimeDate'] = pd.to_datetime(df_awake['startTimeInSeconds'], unit='s')"
   ],
   "id": "76d47e0a3b696e58",
   "outputs": [],
   "execution_count": 5
  },
  {
   "metadata": {
    "ExecuteTime": {
     "end_time": "2024-06-30T19:44:16.899433Z",
     "start_time": "2024-06-30T19:43:31.675079Z"
    }
   },
   "cell_type": "code",
   "source": [
    "# get the ids of the soldiers\n",
    "df_heartrate = pd.read_csv('data/heart_rate_daily.csv')\n",
    "unique_ids = df_heartrate['userId'].unique()"
   ],
   "id": "de04962f10c61b82",
   "outputs": [],
   "execution_count": 6
  },
  {
   "metadata": {
    "ExecuteTime": {
     "end_time": "2024-06-30T19:44:16.969027Z",
     "start_time": "2024-06-30T19:44:16.903835Z"
    }
   },
   "cell_type": "code",
   "source": [
    "def generate_stats(df):\n",
    "    # Assuming your DataFrame is named df and the column is 'timestamp_column'\n",
    "    # Convert the 'timestamp_column' to pandas datetime format\n",
    "    df['startTimeDate'] = pd.to_datetime(df['startTimeDate'])\n",
    "    date_counts = df['startTimeDate'].dt.date.value_counts()\n",
    "    unique_days = len(date_counts)\n",
    "    data_points_per_day = df.groupby(df['startTimeDate'].dt.date)['startTimeDate'].nunique()\n",
    "    # Calculate the average number of timings per day\n",
    "    average_data_points_per_day = data_points_per_day.mean()\n",
    "    return unique_days, average_data_points_per_day\n",
    "\n",
    "def unify_sleep_data(light_sleep, awake_sleep, deep_sleep):\n",
    "    # Create a new DataFrame for the unified data\n",
    "    unified_sleep = pd.DataFrame(columns=['Date', 'Hour', 'Minute', 'SleepState'])\n",
    "\n",
    "    # Process each sleep DataFrame\n",
    "    unified_sleep = process_sleep_df(light_sleep, 'Light Sleep', unified_sleep)\n",
    "    unified_sleep = process_sleep_df(awake_sleep, 'Awake', unified_sleep)\n",
    "    unified_sleep = process_sleep_df(deep_sleep, 'Deep Sleep', unified_sleep)\n",
    "\n",
    "    # Fill in missing minutes\n",
    "    unique_dates = unified_sleep['Date'].unique()\n",
    "    for date in unique_dates:\n",
    "        for hour in range(24):\n",
    "            for minute in range(60):\n",
    "                if not ((unified_sleep['Date'] == date) & (unified_sleep['Hour'] == hour) & (\n",
    "                        unified_sleep['Minute'] == minute)).any():\n",
    "                    unified_sleep = pd.concat([unified_sleep, pd.DataFrame([{'Date': date, 'Hour': hour, 'Minute': minute, 'SleepState': '?'}])], ignore_index=True)\n",
    "                    # append is deprecated\n",
    "                    # unified_sleep = unified_sleep.append(\n",
    "                    #     {'Date': date, 'Hour': hour, 'Minute': minute, 'SleepState': '?'}, ignore_index=True)\n",
    "\n",
    "    # Sort the DataFrame\n",
    "    unified_sleep = unified_sleep.sort_values(by=['Date', 'Hour', 'Minute']).reset_index(drop=True)\n",
    "\n",
    "    return unified_sleep\n",
    "\n",
    "# Function to process each sleep DataFrame\n",
    "def process_sleep_df(df, sleep_state, unified_df):\n",
    "    for index, row in df.iterrows():\n",
    "        start_minute = row['startTimeInSeconds'] // 60\n",
    "        end_minute = row['endTimeInSeconds'] // 60\n",
    "        # print(start_minute, end_minute)\n",
    "        date = row['startTimeDate']\n",
    "        for minute in range(start_minute, end_minute):\n",
    "            minute_of_hour = minute % 60\n",
    "            unified_df = pd.concat([unified_df, pd.DataFrame([{'Date': str(date).split(\" \")[0], 'Hour': date.hour, 'Minute': minute_of_hour,\n",
    "                'SleepState': sleep_state}])], ignore_index=True)\n",
    "            \n",
    "            # append is deprecated\n",
    "            # unified_df = unified_df.append(\n",
    "            #     {'Date': str(date).split(\" \")[0], 'Hour': date.hour, 'Minute': minute_of_hour,\n",
    "            #     'SleepState': sleep_state}, ignore_index=True)\n",
    "\n",
    "    return unified_df\n",
    "\n",
    "def sleep_by_weeks(df):\n",
    "    df['Date'] = pd.to_datetime(df['Date'])\n",
    "\n",
    "    # Define a custom function to calculate the week number with Sunday as the first day\n",
    "    def get_week_number(date):\n",
    "        # Adjust the date so that Sunday is the first day of the week\n",
    "        adjusted_date = date - pd.Timedelta(days=(date.weekday() + 1) % 7)\n",
    "        # Return the ISO week number of the adjusted date\n",
    "        return adjusted_date.isocalendar()[1]\n",
    "\n",
    "    # Apply the custom function to calculate the week number for each row\n",
    "    df['WeekNumber'] = df['Date'].apply(get_week_number)\n",
    "    # Initialize an empty dictionary to hold the DataFrames for each week\n",
    "    weekly_dataframes = {}\n",
    "    # Group by 'WeekNumber' and create a DataFrame for each week\n",
    "    for week_number, group in df.groupby('WeekNumber'):\n",
    "        weekly_dataframes[week_number] = group\n",
    "    return weekly_dataframes\n",
    "\n"
   ],
   "id": "5ea50bfe5455bb5b",
   "outputs": [],
   "execution_count": 7
  },
  {
   "metadata": {
    "ExecuteTime": {
     "end_time": "2024-07-01T12:05:42.252452Z",
     "start_time": "2024-06-30T19:47:48.935722Z"
    }
   },
   "cell_type": "code",
   "source": [
    "users_weekly_sleep = {}\n",
    "# Code takes a very long time to run (over 2 days)\n",
    "count = 0\n",
    "for id in unique_ids:\n",
    "    filtered_light_sleep = df_light[df_light['userId'] == id].reset_index().drop(columns=['index', 'summaryId'], inplace=False)\n",
    "    filtered_awake_sleep = df_awake[df_awake['userId'] == id].reset_index().drop(columns=['index', 'summaryId'], inplace=False)\n",
    "    filtered_deep_sleep = df_deep[df_deep['userId'] == id].reset_index().drop(columns=['index', 'summaryId'], inplace=False)\n",
    "\n",
    "    unified_sleep = unify_sleep_data(filtered_light_sleep, filtered_awake_sleep, filtered_deep_sleep)\n",
    "    users_weekly_sleep[id] = sleep_by_weeks(unified_sleep)\n",
    "    \n",
    "    count += 1\n",
    "    print(count)\n",
    "    "
   ],
   "id": "bea1fcdb7955d221",
   "outputs": [
    {
     "name": "stdout",
     "output_type": "stream",
     "text": [
      "134\n",
      "135\n",
      "136\n",
      "137\n",
      "138\n",
      "139\n",
      "140\n",
      "141\n",
      "142\n",
      "143\n",
      "144\n",
      "145\n",
      "146\n",
      "147\n",
      "148\n",
      "149\n",
      "150\n",
      "151\n",
      "152\n",
      "153\n",
      "154\n",
      "155\n",
      "156\n",
      "157\n",
      "158\n",
      "159\n",
      "160\n",
      "161\n",
      "162\n",
      "163\n",
      "164\n",
      "165\n",
      "166\n",
      "167\n",
      "168\n",
      "169\n",
      "170\n",
      "171\n",
      "172\n",
      "173\n",
      "174\n",
      "175\n",
      "176\n",
      "177\n",
      "178\n",
      "179\n",
      "180\n",
      "181\n",
      "182\n",
      "183\n",
      "184\n",
      "185\n",
      "186\n",
      "187\n",
      "188\n",
      "189\n",
      "190\n",
      "191\n",
      "192\n",
      "193\n",
      "194\n",
      "195\n",
      "196\n",
      "197\n",
      "198\n",
      "199\n",
      "200\n",
      "201\n",
      "202\n",
      "203\n",
      "204\n",
      "205\n",
      "206\n",
      "207\n",
      "208\n",
      "209\n"
     ]
    }
   ],
   "execution_count": 19
  },
  {
   "metadata": {
    "ExecuteTime": {
     "end_time": "2024-06-30T19:47:20.230413Z",
     "start_time": "2024-06-30T19:47:20.227557Z"
    }
   },
   "cell_type": "code",
   "source": "",
   "id": "7dacaf8e64e6e58",
   "outputs": [],
   "execution_count": 16
  },
  {
   "metadata": {
    "ExecuteTime": {
     "end_time": "2024-07-01T12:05:43.021737Z",
     "start_time": "2024-07-01T12:05:42.254524Z"
    }
   },
   "cell_type": "code",
   "source": [
    "with open('sleeping.pkl', 'wb') as file:\n",
    "    pickle.dump(users_weekly_sleep, file)"
   ],
   "id": "5468e988e833c2c0",
   "outputs": [],
   "execution_count": 20
  },
  {
   "metadata": {
    "ExecuteTime": {
     "end_time": "2024-07-01T16:58:48.481616Z",
     "start_time": "2024-07-01T16:58:48.457344Z"
    }
   },
   "cell_type": "code",
   "source": "len(users_weekly_sleep)",
   "id": "d8e75075402c4845",
   "outputs": [
    {
     "data": {
      "text/plain": [
       "210"
      ]
     },
     "execution_count": 28,
     "metadata": {},
     "output_type": "execute_result"
    }
   ],
   "execution_count": 28
  },
  {
   "metadata": {
    "ExecuteTime": {
     "end_time": "2024-07-01T17:00:01.671009Z",
     "start_time": "2024-07-01T17:00:01.642292Z"
    }
   },
   "cell_type": "code",
   "source": "users_weekly_sleep['b1f802a7-b049-47db-8bd9-21d77cfbbd69'][51]",
   "id": "65ed598c1cbb1a79",
   "outputs": [
    {
     "data": {
      "text/plain": [
       "             Date Hour Minute   SleepState  WeekNumber\n",
       "109834 2022-12-25    0      0  Light Sleep          51\n",
       "109835 2022-12-25    0      0   Deep Sleep          51\n",
       "109836 2022-12-25    0      0   Deep Sleep          51\n",
       "109837 2022-12-25    0      1  Light Sleep          51\n",
       "109838 2022-12-25    0      1   Deep Sleep          51\n",
       "...           ...  ...    ...          ...         ...\n",
       "121537 2022-12-31   23     55  Light Sleep          51\n",
       "121538 2022-12-31   23     56  Light Sleep          51\n",
       "121539 2022-12-31   23     57  Light Sleep          51\n",
       "121540 2022-12-31   23     58  Light Sleep          51\n",
       "121541 2022-12-31   23     59  Light Sleep          51\n",
       "\n",
       "[11708 rows x 5 columns]"
      ],
      "text/html": [
       "<div>\n",
       "<style scoped>\n",
       "    .dataframe tbody tr th:only-of-type {\n",
       "        vertical-align: middle;\n",
       "    }\n",
       "\n",
       "    .dataframe tbody tr th {\n",
       "        vertical-align: top;\n",
       "    }\n",
       "\n",
       "    .dataframe thead th {\n",
       "        text-align: right;\n",
       "    }\n",
       "</style>\n",
       "<table border=\"1\" class=\"dataframe\">\n",
       "  <thead>\n",
       "    <tr style=\"text-align: right;\">\n",
       "      <th></th>\n",
       "      <th>Date</th>\n",
       "      <th>Hour</th>\n",
       "      <th>Minute</th>\n",
       "      <th>SleepState</th>\n",
       "      <th>WeekNumber</th>\n",
       "    </tr>\n",
       "  </thead>\n",
       "  <tbody>\n",
       "    <tr>\n",
       "      <th>109834</th>\n",
       "      <td>2022-12-25</td>\n",
       "      <td>0</td>\n",
       "      <td>0</td>\n",
       "      <td>Light Sleep</td>\n",
       "      <td>51</td>\n",
       "    </tr>\n",
       "    <tr>\n",
       "      <th>109835</th>\n",
       "      <td>2022-12-25</td>\n",
       "      <td>0</td>\n",
       "      <td>0</td>\n",
       "      <td>Deep Sleep</td>\n",
       "      <td>51</td>\n",
       "    </tr>\n",
       "    <tr>\n",
       "      <th>109836</th>\n",
       "      <td>2022-12-25</td>\n",
       "      <td>0</td>\n",
       "      <td>0</td>\n",
       "      <td>Deep Sleep</td>\n",
       "      <td>51</td>\n",
       "    </tr>\n",
       "    <tr>\n",
       "      <th>109837</th>\n",
       "      <td>2022-12-25</td>\n",
       "      <td>0</td>\n",
       "      <td>1</td>\n",
       "      <td>Light Sleep</td>\n",
       "      <td>51</td>\n",
       "    </tr>\n",
       "    <tr>\n",
       "      <th>109838</th>\n",
       "      <td>2022-12-25</td>\n",
       "      <td>0</td>\n",
       "      <td>1</td>\n",
       "      <td>Deep Sleep</td>\n",
       "      <td>51</td>\n",
       "    </tr>\n",
       "    <tr>\n",
       "      <th>...</th>\n",
       "      <td>...</td>\n",
       "      <td>...</td>\n",
       "      <td>...</td>\n",
       "      <td>...</td>\n",
       "      <td>...</td>\n",
       "    </tr>\n",
       "    <tr>\n",
       "      <th>121537</th>\n",
       "      <td>2022-12-31</td>\n",
       "      <td>23</td>\n",
       "      <td>55</td>\n",
       "      <td>Light Sleep</td>\n",
       "      <td>51</td>\n",
       "    </tr>\n",
       "    <tr>\n",
       "      <th>121538</th>\n",
       "      <td>2022-12-31</td>\n",
       "      <td>23</td>\n",
       "      <td>56</td>\n",
       "      <td>Light Sleep</td>\n",
       "      <td>51</td>\n",
       "    </tr>\n",
       "    <tr>\n",
       "      <th>121539</th>\n",
       "      <td>2022-12-31</td>\n",
       "      <td>23</td>\n",
       "      <td>57</td>\n",
       "      <td>Light Sleep</td>\n",
       "      <td>51</td>\n",
       "    </tr>\n",
       "    <tr>\n",
       "      <th>121540</th>\n",
       "      <td>2022-12-31</td>\n",
       "      <td>23</td>\n",
       "      <td>58</td>\n",
       "      <td>Light Sleep</td>\n",
       "      <td>51</td>\n",
       "    </tr>\n",
       "    <tr>\n",
       "      <th>121541</th>\n",
       "      <td>2022-12-31</td>\n",
       "      <td>23</td>\n",
       "      <td>59</td>\n",
       "      <td>Light Sleep</td>\n",
       "      <td>51</td>\n",
       "    </tr>\n",
       "  </tbody>\n",
       "</table>\n",
       "<p>11708 rows × 5 columns</p>\n",
       "</div>"
      ]
     },
     "execution_count": 35,
     "metadata": {},
     "output_type": "execute_result"
    }
   ],
   "execution_count": 35
  },
  {
   "metadata": {
    "ExecuteTime": {
     "end_time": "2024-06-30T15:47:58.430908Z",
     "start_time": "2024-06-30T15:47:58.408633Z"
    }
   },
   "cell_type": "code",
   "source": [
    "len(users_weekly_sleep.keys())\n",
    "users_weekly_sleep['0fa9bebd-47a8-4979-9ae4-54f8288dc150'][3]['SleepState'].value_counts()"
   ],
   "id": "a5c0fc6d2d7ff795",
   "outputs": [
    {
     "data": {
      "text/plain": [
       "SleepState\n",
       "?              8085\n",
       "Light Sleep    2132\n",
       "Deep Sleep     1261\n",
       "Awake           407\n",
       "Name: count, dtype: int64"
      ]
     },
     "execution_count": 28,
     "metadata": {},
     "output_type": "execute_result"
    }
   ],
   "execution_count": 28
  },
  {
   "metadata": {},
   "cell_type": "code",
   "outputs": [],
   "execution_count": null,
   "source": "",
   "id": "8b41017a22ccb488"
  }
 ],
 "metadata": {
  "kernelspec": {
   "display_name": "Python 3",
   "language": "python",
   "name": "python3"
  },
  "language_info": {
   "codemirror_mode": {
    "name": "ipython",
    "version": 2
   },
   "file_extension": ".py",
   "mimetype": "text/x-python",
   "name": "python",
   "nbconvert_exporter": "python",
   "pygments_lexer": "ipython2",
   "version": "2.7.6"
  }
 },
 "nbformat": 4,
 "nbformat_minor": 5
}
